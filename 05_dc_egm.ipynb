{
 "cells": [
  {
   "cell_type": "code",
   "execution_count": 1,
   "metadata": {},
   "outputs": [],
   "source": [
    "# magics: ensures that any changes to the modules loaded below will be re-loaded automatically\n",
    "\n",
    "# load general packages\n",
    "import numpy as np\n",
    "import matplotlib.pyplot as plt\n",
    "plt.style.use('seaborn-whitegrid')\n",
    "\n",
    "# load modules related to this exercise\n",
    "import tools \n",
    "from model_dc_multidim import model_dc_multidim\n",
    "import egm_dc_multidim as egm\n",
    "import time\n",
    "import random"
   ]
  },
  {
   "cell_type": "code",
   "execution_count": 2,
   "metadata": {},
   "outputs": [
    {
     "data": {
      "text/plain": [
       "8.19590192686237"
      ]
     },
     "execution_count": 2,
     "metadata": {},
     "output_type": "execute_result"
    }
   ],
   "source": [
    "egm.pens_fun(1001, 0)"
   ]
  },
  {
   "cell_type": "code",
   "execution_count": 3,
   "metadata": {},
   "outputs": [
    {
     "data": {
      "text/plain": [
       "-0.004989999999999929"
      ]
     },
     "execution_count": 3,
     "metadata": {},
     "output_type": "execute_result"
    }
   ],
   "source": [
    "def marg_pens(m, wage):\n",
    "    v = 0.1\n",
    "    return -(0.00499 * np.exp((0.00499 * m + 10.75973 - 0.00499 * 117.08260)/v) ) / ( ( np.exp(0.00499 * (m - 117.08260)/v ) + np.exp(0.27749 * wage/v) + np.exp(10.75973/v) +1)  * (np.exp(0.00499 *(m - 117.08260)/v ) + np.exp(wage * 0.27749/v) +1 ) )\n",
    "\n",
    "marg_pens(1000, 0)"
   ]
  },
  {
   "cell_type": "code",
   "execution_count": 4,
   "metadata": {},
   "outputs": [],
   "source": [
    "model = model_dc_multidim()\n",
    "model.setup()\n",
    "model.create_grids()"
   ]
  },
  {
   "cell_type": "code",
   "execution_count": 5,
   "metadata": {},
   "outputs": [
    {
     "name": "stdout",
     "output_type": "stream",
     "text": [
      "Evalutating: cg, low\n",
      "Evalutating period: 88\n",
      "Evalutating period: 87\n",
      "Evalutating period: 86\n",
      "Evalutating period: 85\n",
      "Evalutating period: 84\n",
      "Evalutating period: 83\n",
      "Evalutating period: 82\n",
      "Evalutating period: 81\n",
      "Evalutating period: 80\n",
      "Evalutating period: 79\n",
      "Evalutating period: 78\n",
      "Evalutating period: 77\n",
      "Evalutating period: 76\n",
      "Evalutating period: 75\n",
      "Evalutating period: 74\n",
      "Evalutating period: 73\n",
      "Evalutating period: 72\n",
      "Evalutating period: 71\n",
      "Evalutating period: 70\n",
      "Evalutating period: 69\n",
      "Evalutating period: 68\n",
      "Evalutating period: 67\n",
      "Evalutating period: 66\n",
      "Evalutating period: 65\n",
      "Evalutating period: 64\n",
      "Evalutating period: 63\n",
      "Evalutating period: 62\n",
      "Evalutating period: 61\n",
      "Evalutating period: 60\n",
      "Evalutating period: 59\n",
      "Evalutating period: 58\n",
      "Evalutating period: 57\n",
      "Evalutating period: 56\n",
      "Evalutating period: 55\n",
      "Evalutating period: 54\n",
      "Evalutating period: 53\n",
      "Evalutating period: 52\n",
      "Evalutating period: 51\n",
      "Evalutating period: 50\n",
      "Evalutating period: 49\n",
      "Evalutating period: 48\n",
      "Evalutating period: 47\n",
      "Evalutating period: 46\n",
      "Evalutating period: 45\n",
      "Evalutating period: 44\n",
      "Evalutating period: 43\n",
      "Evalutating period: 42\n",
      "Evalutating period: 41\n",
      "Evalutating period: 40\n",
      "Evalutating period: 39\n",
      "Evalutating period: 38\n",
      "Evalutating period: 37\n",
      "Evalutating period: 36\n",
      "Evalutating period: 35\n",
      "Evalutating period: 34\n",
      "Evalutating period: 33\n",
      "Evalutating period: 32\n",
      "Evalutating period: 31\n",
      "Evalutating period: 30\n",
      "Evalutating period: 29\n",
      "Evalutating period: 28\n",
      "Evalutating period: 27\n",
      "Evalutating period: 26\n",
      "Evalutating period: 25\n",
      "Evalutating period: 24\n",
      "Evalutating period: 23\n",
      "Evalutating period: 22\n",
      "Evalutating period: 21\n",
      "Evalutating period: 20\n",
      "Evalutating: cg, high\n",
      "Evalutating period: 88\n",
      "Evalutating period: 87\n",
      "Evalutating period: 86\n",
      "Evalutating period: 85\n",
      "Evalutating period: 84\n",
      "Evalutating period: 83\n",
      "Evalutating period: 82\n",
      "Evalutating period: 81\n",
      "Evalutating period: 80\n",
      "Evalutating period: 79\n",
      "Evalutating period: 78\n",
      "Evalutating period: 77\n",
      "Evalutating period: 76\n",
      "Evalutating period: 75\n",
      "Evalutating period: 74\n",
      "Evalutating period: 73\n",
      "Evalutating period: 72\n",
      "Evalutating period: 71\n",
      "Evalutating period: 70\n",
      "Evalutating period: 69\n",
      "Evalutating period: 68\n",
      "Evalutating period: 67\n",
      "Evalutating period: 66\n",
      "Evalutating period: 65\n",
      "Evalutating period: 64\n",
      "Evalutating period: 63\n",
      "Evalutating period: 62\n",
      "Evalutating period: 61\n",
      "Evalutating period: 60\n",
      "Evalutating period: 59\n",
      "Evalutating period: 58\n",
      "Evalutating period: 57\n",
      "Evalutating period: 56\n",
      "Evalutating period: 55\n",
      "Evalutating period: 54\n",
      "Evalutating period: 53\n",
      "Evalutating period: 52\n",
      "Evalutating period: 51\n",
      "Evalutating period: 50\n",
      "Evalutating period: 49\n",
      "Evalutating period: 48\n",
      "Evalutating period: 47\n",
      "Evalutating period: 46\n",
      "Evalutating period: 45\n",
      "Evalutating period: 44\n",
      "Evalutating period: 43\n",
      "Evalutating period: 42\n",
      "Evalutating period: 41\n",
      "Evalutating period: 40\n",
      "Evalutating period: 39\n",
      "Evalutating period: 38\n",
      "Evalutating period: 37\n",
      "Evalutating period: 36\n",
      "Evalutating period: 35\n",
      "Evalutating period: 34\n",
      "Evalutating period: 33\n",
      "Evalutating period: 32\n",
      "Evalutating period: 31\n",
      "Evalutating period: 30\n",
      "Evalutating period: 29\n",
      "Evalutating period: 28\n",
      "Evalutating period: 27\n",
      "Evalutating period: 26\n",
      "Evalutating period: 25\n",
      "Evalutating period: 24\n",
      "Evalutating period: 23\n",
      "Evalutating period: 22\n",
      "Evalutating period: 21\n",
      "Evalutating period: 20\n",
      "time: 1107.4231 seconds\n"
     ]
    }
   ],
   "source": [
    "t0 = time.time()  # set the starting time\n",
    "model = model_dc_multidim()\n",
    "model.setup()\n",
    "model.create_grids()\n",
    "model.solve()\n",
    "t1 = time.time() # set the ending time\n",
    "print(f'time: {t1-t0:.8} seconds') # print the total time"
   ]
  },
  {
   "cell_type": "code",
   "execution_count": 6,
   "metadata": {},
   "outputs": [
    {
     "data": {
      "text/plain": [
       "array([16.62151476, 16.62151476])"
      ]
     },
     "execution_count": 6,
     "metadata": {},
     "output_type": "execute_result"
    }
   ],
   "source": [
    "m = np.array([15,15], dtype = float)\n",
    "e = np.array([1,1], dtype=float)\n",
    "par = model.par\n",
    "sol = model.sol\n",
    "c = tools.interp_2d_vec(par.grid_m, par.grid_e, sol.c[30, 0, :, :, 0, 0],m,e)\n",
    "c"
   ]
  },
  {
   "cell_type": "code",
   "execution_count": 32,
   "metadata": {},
   "outputs": [],
   "source": [
    "np.random.seed(100)\n",
    "def pens_fun(m, wage):\n",
    "    year = 2015\n",
    "    m_asset_test = m\n",
    "    pens = soft_max(10.75973 + 1.84692 * (year > 2010) \n",
    "                    - soft_max(0, soft_max(0.27749 * wage, 0.00499 * (m_asset_test - 117.08260))), 0)\n",
    "    return pens\n",
    "\n",
    "def tax_fun(income, par):\n",
    "    thld_1 = 17.3918\n",
    "    thld_2 = 73.1766\n",
    "\n",
    "    if income < thld_1:\n",
    "        return 0 * income\n",
    "    if income < thld_2:\n",
    "        return 0.29907 * (income - thld_1)\n",
    "    return 0.37930 * (income - thld_2) + 0.29907 * thld_2\n",
    "\n",
    "def human_capital(e, t, par, tau=(\"cg\",\"high\")):\n",
    "    edu, skill = tau\n",
    "    t -= 20\n",
    "    return np.exp(par.eta_0[edu] + par.eta_0[skill] + par.eta_1[edu] * t*e + par.eta_2[edu] * (t*e)**2 + par.eta_3*t + par.eta_4*t**2)\n",
    "\n",
    "def soft_max(x, y):\n",
    "    v = 0.4\n",
    "    return v * np.log(np.exp(x/v) + np.exp(y/v))\n",
    "\n",
    "def pens_fun(m, wage):\n",
    "    year = 2015\n",
    "    m_asset_test = m\n",
    "    pens = soft_max(10.75973 + 1.84692 * (year > 2010) \n",
    "                    - soft_max(0, soft_max(0.27749 * wage, 0.00499 * (m_asset_test - 117.08260))), 0)\n",
    "    return pens\n",
    "\n",
    "def res(V, sigma):\n",
    "    # Maximum over the discrete choices (0 = for each column, i.e., for each \"competing choice\")\n",
    "    mxm = V.max(0)\n",
    "    # numerically robust log-sum\n",
    "    log_sum = mxm + sigma*(np.log(np.sum(np.exp((V - mxm) / sigma),axis=0)))\n",
    "    prob = np.exp((V- log_sum) / sigma)    \n",
    "    return prob    \n",
    "\n",
    "def simulate (model):\n",
    "    par = model.par\n",
    "    sol = model.sol\n",
    "    sim = model.sim\n",
    "    \n",
    "    par.simN = 1000\n",
    "    par.simT = par.T\n",
    "    par.Tmin = 25\n",
    "    \n",
    "    num_high = int(par.simN * model.par.high_proportion[\"cg\"]) # numbers of high type in simulation rounded\n",
    "    num_in_sim = {\"high\": (0, num_high), \"low\": (num_high, par.simN)}\n",
    "    \n",
    "    # Initialize\n",
    "    #par.simN = simN\n",
    "    shape = (par.simT, par.simN)\n",
    "    sim.m = np.nan +np.zeros(shape)\n",
    "    sim.c = np.nan +np.zeros(shape)\n",
    "    sim.a = np.nan +np.zeros(shape)\n",
    "    sim.e = np.nan +np.zeros(shape)\n",
    "    sim.income = np.nan +np.zeros(shape)\n",
    "    sim.pens = np.nan +np.zeros(shape)\n",
    "    \n",
    "    sim.m[par.Tmin, :] = np.random.lognormal(0, 1.48960, par.simN) + par.tr\n",
    "    sim.e[par.Tmin, :] = np.random.uniform(0.5, 1, par.simN)\n",
    "    sim.e[par.Tmin, :] = 1\n",
    "    \n",
    "    sim.h = np.nan +np.zeros(shape)\n",
    "    sim.v = np.nan +np.zeros(shape)\n",
    "    sim.y = np.nan +np.zeros(shape)\n",
    "    sim.wage = np.nan +np.zeros(shape)\n",
    "    model.par.H_bunches = np.array(model.par.H_bunches)\n",
    "    \n",
    "    #m_extra = np.linespace(-20, -0.00001, 50)\n",
    "    for skill_i, skill_ in enumerate([\"high\", \"low\"]):\n",
    "        start, end = num_in_sim[skill_]\n",
    "        \n",
    "\n",
    "        # HOW TO GET TYPES -> LOOP OVER THEM CHANGE tau, split simN into two, one for high and low\n",
    "        tau=(\"cg\", skill_)\n",
    "        edu, skill = tau \n",
    "        for t in range(par.Tmin, par.simT):\n",
    "            V = np.zeros( (6, end - start) )\n",
    "            C = np.zeros( (6, end - start) )\n",
    "            for i, h_i in enumerate(model.par.H_bunches): # possible hour choices\n",
    "                C[i, :] =tools.interp_2d_vec(par.grid_m, par.grid_e, sol.c[t, i, :, :, skill_i, 0], sim.m[t, start:end], sim.e[t, start:end])\n",
    "                V[i, :] = tools.interp_2d_vec(par.grid_m , par.grid_e, sol.v[t, i, :, :, skill_i, 0], sim.m[t, start:end], sim.e[t, start:end]) \n",
    "                #cc = np.argmin(V[i,:])\n",
    "                #print(sim.m[t, cc] - C[i,cc] )\n",
    "                \n",
    "            prob_work = res(V, model.par.lambda_scale)\n",
    "            def test(x):\n",
    "                #x = np.asarray(x).astype('float64')\n",
    "                #prop = x / ( np.sum(x) )\n",
    "                #print(x)\n",
    "                return np.random.choice(np.array([0, 1, 2, 3, 4, 5]),  p = x )\n",
    "            \n",
    "            h_i = np.apply_along_axis(test, 0, prob_work)\n",
    "            if t > 84:\n",
    "                h_i = h_i * 0\n",
    "\n",
    "            #w_raw = w*np.reshape(V_plus,(par.Na,par.Nxi))\n",
    "\n",
    "            #h_i = V.argmax(0) # index of best choice\n",
    "\n",
    "            Vs = V[:, h_i][0, :]\n",
    "            Cs = C[:, h_i][0, :] # magic to get all the best choices\n",
    "            sim.c[t, start:end] = Cs\n",
    "            sim.v[t, start:end] = Vs\n",
    "            sim.a[t, start:end] = sim.m[t, start:end] - sim.c[t, start:end]\n",
    "            \n",
    "            h_plus = model.par.H_bunches[h_i]\n",
    "            sim.h[t, start:end] = h_plus\n",
    "\n",
    "            if t< par.simT-1:\n",
    "\n",
    "                xi, xi_w = tools.GaussHermite_lognorm(par.sigma_1 + par.sigma_2 * t, end - start)\n",
    "                \n",
    "                sim.xi = np.random.choice(xi, (end - start),replace=True,p=xi_w)\n",
    "\n",
    "                tax_fun_ = np.vectorize(tax_fun)\n",
    "\n",
    "                e_plus = (1/(1 + t)) * (t * sim.e[t,start:end] + h_plus/par.H_bunches[5])\n",
    "                K_plus = human_capital(e_plus, t, par)\n",
    "\n",
    "                sim.e[t+1, start:end] = e_plus\n",
    "\n",
    "                wage_plus = K_plus * sim.xi # K\n",
    "                #print(wage_plus.shape)\n",
    "                sim.wage[t, start:end] = wage_plus\n",
    "                income = h_plus * wage_plus / 1000\n",
    "                #print(np.max(xi))\n",
    "                sim.income[t, start:end] = income\n",
    "\n",
    "                a = sim.m[t, start:end] - sim.c[t, start:end]\n",
    "                sim.a[t, start:end] = a\n",
    "                super_payment = K_plus * par.rho[edu] * (t+1 == 65)   \n",
    "                m_plus = par.interest * a + income - tax_fun_(income, par)  + par.tr * (t+1 <= 3) # wealth before pens\n",
    "\n",
    "                pens = pens_fun(m_plus, income) * (t > 65)\n",
    "                m_plus += super_payment\n",
    "                m_plus += pens\n",
    "\n",
    "                sim.pens[t, start:end] = pens\n",
    "                #print(np.average(sim.c))\n",
    "                \n",
    "                sim.m[t+1, start:end] = m_plus\n",
    " \n",
    "    \n",
    "simulate(model)"
   ]
  },
  {
   "cell_type": "code",
   "execution_count": 40,
   "metadata": {},
   "outputs": [
    {
     "data": {
      "text/plain": [
       "[<matplotlib.lines.Line2D at 0x215df4e87c0>]"
      ]
     },
     "execution_count": 40,
     "metadata": {},
     "output_type": "execute_result"
    },
    {
     "data": {
      "image/png": "[encoded data removed]",
      "text/plain": [
       "<Figure size 576x360 with 1 Axes>"
      ]
     },
     "metadata": {},
     "output_type": "display_data"
    }
   ],
   "source": [
    "hs = []\n",
    "step = 1\n",
    "for i in range(model.par.Tmin, model.par.T, step):\n",
    "    h = model.sim.h[i, :]\n",
    "    #print(h)\n",
    "    #print(h)\n",
    "    #hh = egm.util( model.sim.m[i, :] , model.sim.h[i, :][0], i, model.par)\n",
    "    #h = model.sim.h[i, :]\n",
    "    #print(i)\n",
    "    h = np.average(h)\n",
    "    hs.append(h)\n",
    "fig = plt.figure(figsize=(8,5))\n",
    "ax = fig.add_subplot(1,1,1)\n",
    "ax.set_xlim(20, model.par.T)\n",
    "ax.plot(list(range(model.par.Tmin, model.par.T, step)) , hs)"
   ]
  },
  {
   "cell_type": "code",
   "execution_count": 9,
   "metadata": {},
   "outputs": [
    {
     "data": {
      "text/plain": [
       "[<matplotlib.lines.Line2D at 0x215dcc2b0d0>]"
      ]
     },
     "execution_count": 9,
     "metadata": {},
     "output_type": "execute_result"
    },
    {
     "data": {
      "image/png": "[encoded data removed]",
      "text/plain": [
       "<Figure size 432x288 with 1 Axes>"
      ]
     },
     "metadata": {},
     "output_type": "display_data"
    }
   ],
   "source": [
    "vs = []\n",
    "ds = []\n",
    "years = list(range(20, 70))\n",
    "for i in years:\n",
    "    ds.append( egm.human_capital(1, i, model.par) )\n",
    "    vs.append( egm.util_bequest(10*i, model.par, False) )\n",
    "plt.plot(years, ds)\n",
    "#plt.plot(vs)"
   ]
  },
  {
   "cell_type": "code",
   "execution_count": 10,
   "metadata": {},
   "outputs": [
    {
     "name": "stdout",
     "output_type": "stream",
     "text": [
      "[25, 40, 50, 60, 70, 80]\n"
     ]
    },
    {
     "data": {
      "image/png": "[encoded data removed]",
      "text/plain": [
       "<Figure size 576x360 with 1 Axes>"
      ]
     },
     "metadata": {},
     "output_type": "display_data"
    },
    {
     "name": "stdout",
     "output_type": "stream",
     "text": [
      "[25, 40, 50, 60, 70, 80]\n"
     ]
    },
    {
     "data": {
      "image/png": "[encoded data removed]",
      "text/plain": [
       "<Figure size 576x360 with 1 Axes>"
      ]
     },
     "metadata": {},
     "output_type": "display_data"
    }
   ],
   "source": [
    "# Figure\n",
    "def figure_multi_dim(par,sol,T,i_h):\n",
    "    p = par.grid_e[i_h]\n",
    "\n",
    "    ts = [25, 40, 50, 60, 70, 80]\n",
    "    print(ts)\n",
    "    fig = plt.figure(figsize=(8,5))\n",
    "    ax = fig.add_subplot(1,1,1)\n",
    "    \n",
    "    for i in ts:\n",
    "        ax.scatter(par.grid_m,sol.c[i-1,T,:,i_h, 0, 0], label=f't = {i}')\n",
    "    ax.set_xlabel(f\"$m_t$\")\n",
    "    ax.set_ylabel(f\"$c(m_t,z_{{t+1}} = {T}, health = {p:.3})$\")\n",
    "    ax.set_xlim([0, 50])\n",
    "    ax.set_ylim([0,50])\n",
    "    ax.set_title(f'Consumption function')\n",
    "    plt.legend()\n",
    "    plt.show()\n",
    "\n",
    "figure_multi_dim(model.par,model.sol, 0, 99)\n",
    "figure_multi_dim(model.par,model.sol, 5, 99)\n",
    "#figure_multi_dim(model.par,model.sol, 10, 50)\n",
    "#figure_multi_dim(model.par,model.sol, 30, 50)"
   ]
  },
  {
   "cell_type": "code",
   "execution_count": 11,
   "metadata": {},
   "outputs": [
    {
     "data": {
      "text/plain": [
       "7.818293900984182"
      ]
     },
     "execution_count": 11,
     "metadata": {},
     "output_type": "execute_result"
    }
   ],
   "source": [
    "egm.util(10, 0, 10, model.par)\n"
   ]
  },
  {
   "cell_type": "code",
   "execution_count": 12,
   "metadata": {},
   "outputs": [
    {
     "name": "stdout",
     "output_type": "stream",
     "text": [
      "0.79488\n"
     ]
    },
    {
     "data": {
      "text/plain": [
       "7.818293900984182"
      ]
     },
     "execution_count": 12,
     "metadata": {},
     "output_type": "execute_result"
    }
   ],
   "source": [
    "c = 10\n",
    "par.zeta = model.par.zeta\n",
    "print(par.zeta)\n",
    "((c**(1.0-par.zeta))/(1.0-par.zeta))"
   ]
  },
  {
   "cell_type": "code",
   "execution_count": null,
   "metadata": {},
   "outputs": [],
   "source": []
  },
  {
   "cell_type": "code",
   "execution_count": 13,
   "metadata": {},
   "outputs": [
    {
     "data": {
      "text/plain": [
       "40.0"
      ]
     },
     "execution_count": 13,
     "metadata": {},
     "output_type": "execute_result"
    }
   ],
   "source": [
    "def soft_max(x, y):\n",
    "    v = 0.1\n",
    "    return v * np.log(np.exp(x/v) + np.exp(y/v))\n",
    "soft_max(40,2)"
   ]
  },
  {
   "cell_type": "code",
   "execution_count": null,
   "metadata": {},
   "outputs": [],
   "source": []
  }
 ],
 "metadata": {
  "interpreter": {
   "hash": "d12e26f72a40d5c48233c54861fca038d6a92135fc0e5e920944e69c69b6b29d"
  },
  "kernelspec": {
   "display_name": "Python 3 (ipykernel)",
   "language": "python",
   "name": "python3"
  },
  "language_info": {
   "codemirror_mode": {
    "name": "ipython",
    "version": 3
   },
   "file_extension": ".py",
   "mimetype": "text/x-python",
   "name": "python",
   "nbconvert_exporter": "python",
   "pygments_lexer": "ipython3",
   "version": "3.9.12"
  }
 },
 "nbformat": 4,
 "nbformat_minor": 4
}
