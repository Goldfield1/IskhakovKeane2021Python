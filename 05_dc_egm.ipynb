{
 "cells": [
  {
   "cell_type": "code",
   "execution_count": 1,
   "metadata": {},
   "outputs": [],
   "source": [
    "# magics: ensures that any changes to the modules loaded below will be re-loaded automatically\n",
    "\n",
    "# load general packages\n",
    "import numpy as np\n",
    "import matplotlib.pyplot as plt\n",
    "plt.style.use('seaborn-whitegrid')\n",
    "\n",
    "# load modules related to this exercise\n",
    "import tools \n",
    "from model_dc_multidim import model_dc_multidim\n",
    "import egm_dc_multidim as egm\n",
    "import time"
   ]
  },
  {
   "cell_type": "code",
   "execution_count": 3,
   "metadata": {},
   "outputs": [],
   "source": [
    "model = model_dc_multidim()\n",
    "model.setup()\n",
    "model.create_grids()"
   ]
  },
  {
   "cell_type": "code",
   "execution_count": 6,
   "metadata": {},
   "outputs": [
    {
     "name": "stdout",
     "output_type": "stream",
     "text": [
      "88\n",
      "87\n",
      "86\n",
      "85\n",
      "84\n",
      "83\n",
      "82\n",
      "81\n",
      "80\n",
      "79\n",
      "78\n",
      "77\n",
      "76\n",
      "75\n",
      "74\n",
      "73\n",
      "72\n",
      "71\n",
      "70\n",
      "69\n",
      "68\n",
      "67\n",
      "66\n",
      "65\n",
      "64\n",
      "63\n",
      "62\n",
      "61\n",
      "60\n",
      "59\n",
      "58\n",
      "57\n",
      "56\n",
      "55\n",
      "54\n",
      "53\n",
      "52\n",
      "51\n",
      "50\n",
      "49\n",
      "48\n",
      "47\n",
      "46\n",
      "45\n",
      "44\n",
      "43\n",
      "42\n",
      "41\n",
      "40\n",
      "39\n",
      "38\n",
      "37\n",
      "36\n",
      "35\n",
      "34\n",
      "33\n",
      "32\n",
      "31\n",
      "30\n",
      "29\n",
      "28\n",
      "27\n",
      "26\n",
      "25\n",
      "24\n",
      "23\n",
      "22\n",
      "21\n",
      "20\n",
      "time: 550.38281 seconds\n"
     ]
    }
   ],
   "source": [
    "t0 = time.time()  # set the starting time\n",
    "model = model_dc_multidim()\n",
    "model.setup()\n",
    "model.create_grids()\n",
    "model.solve()\n",
    "t1 = time.time() # set the ending time\n",
    "print(f'time: {t1-t0:.8} seconds') # print the total time"
   ]
  },
  {
   "cell_type": "code",
   "execution_count": 407,
   "metadata": {},
   "outputs": [
    {
     "data": {
      "text/plain": [
       "53.49402684971406"
      ]
     },
     "execution_count": 407,
     "metadata": {},
     "output_type": "execute_result"
    }
   ],
   "source": [
    "egm.human_capital(1, 60, model.par)"
   ]
  },
  {
   "cell_type": "code",
   "execution_count": 132,
   "metadata": {},
   "outputs": [
    {
     "data": {
      "text/plain": [
       "4"
      ]
     },
     "execution_count": 132,
     "metadata": {},
     "output_type": "execute_result"
    }
   ],
   "source": [
    "w = np.random.uniform(size=(5)) \n",
    "w = w / np.sum(w)\n",
    "np.random.choice(np.array([2,3,4,5,7]), p = w )"
   ]
  },
  {
   "cell_type": "code",
   "execution_count": 409,
   "metadata": {},
   "outputs": [],
   "source": [
    "def pens_fun(m, wage):\n",
    "    year = 2015\n",
    "    m_asset_test = m\n",
    "    pens = soft_max(10.75973 + 1.84692 * (year > 2010) \n",
    "                    - soft_max(0, soft_max(0.27749 * wage, 0.00499 * (m_asset_test - 117.08260))), 0)\n",
    "    return pens\n",
    "\n",
    "def tax_fun(income, par):\n",
    "    thld_1 = 17.3918\n",
    "    thld_2 = 73.1766\n",
    "\n",
    "    if income < thld_1:\n",
    "        return 0 * income\n",
    "    if income < thld_2:\n",
    "        return 0.29907 * (income - thld_1)\n",
    "    return 0.37930 * (income - thld_2) + 0.29907 * thld_2\n",
    "\n",
    "def human_capital(e, t, par, tau=(\"cg\",\"high\")):\n",
    "    edu, skill = tau\n",
    "    t -= 20\n",
    "    return np.exp(par.eta_0[edu] + par.eta_0[skill] + par.eta_1[edu] * t*e + par.eta_2[edu] * (t*e)**2 + par.eta_3*t + par.eta_4*t**2)\n",
    "\n",
    "def soft_max(x, y):\n",
    "    v = 0.3\n",
    "    return v * np.log(np.exp(x/v) + np.exp(y/v))\n",
    "\n",
    "def pens_fun(m, wage):\n",
    "    year = 2015\n",
    "    m_asset_test = m\n",
    "    pens = soft_max(10.75973 + 1.84692 * (year > 2010) \n",
    "                    - soft_max(0, soft_max(0.27749 * wage, 0.00499 * (m_asset_test - 117.08260))), 0)\n",
    "    return pens\n",
    "\n",
    "def res(V, sigma):\n",
    "    # Maximum over the discrete choices (0 = for each column, i.e., for each \"competing choice\")\n",
    "    mxm = V.max(0)\n",
    "    # numerically robust log-sum\n",
    "    log_sum = mxm + sigma*(np.log(np.sum(np.exp((V - mxm) / sigma),axis=0)))\n",
    "    prob = np.exp((V- log_sum) / sigma)    \n",
    "    return prob    \n",
    "\n",
    "def simulate (model):\n",
    "    par = model.par\n",
    "    sol = model.sol\n",
    "    sim = model.sim\n",
    "    \n",
    "    par.simT = par.T\n",
    "    \n",
    "    # Initialize\n",
    "    shape = (par.simT, par.simN)\n",
    "    sim.m = np.nan +np.zeros(shape)\n",
    "    sim.c = np.nan +np.zeros(shape)\n",
    "    sim.a = np.nan +np.zeros(shape)\n",
    "    sim.e = np.nan +np.zeros(shape)\n",
    "    sim.income = np.nan +np.zeros(shape)\n",
    "    sim.pens = np.nan +np.zeros(shape)\n",
    "    \n",
    "    sim.h = np.nan +np.zeros(shape)\n",
    "    sim.v = np.nan +np.zeros(shape)\n",
    "    sim.y = np.nan +np.zeros(shape)\n",
    "    sim.wage = np.nan +np.zeros(shape)\n",
    "    # Initial values\n",
    "    #sim.m[par.Tmin,:] = 10\n",
    "    sim.m[par.Tmin,:] = np.random.uniform(-10, 10, size = par.simN)\n",
    "\n",
    "    # Simulation \n",
    "    model.par.H_bunches = np.array(model.par.H_bunches)\n",
    "    \n",
    "    tau=(\"cg\",\"high\")\n",
    "    edu, skill = tau \n",
    "    for t in range(par.Tmin, par.simT):\n",
    "        V = np.zeros( (6, model.par.simN) )\n",
    "        C = np.zeros( (6, model.par.simN) )\n",
    "        for i, h_i in enumerate(model.par.H_bunches): # possible hour choices\n",
    "            if t == par.Tmin:\n",
    "                sim.e[t,:] = par.H_bunches[2] / par.H_bunches[5]\n",
    "            \n",
    "            C[i, :] =tools.interp_2d_vec(par.grid_m, par.grid_e, sol.c[t, i], sim.m[t, :], sim.e[t, :])\n",
    "            V[i, :] = tools.interp_2d_vec(par.grid_m , par.grid_e, sol.v[t, i ], sim.m[t, :], sim.e[t, :]) \n",
    "        \n",
    "\n",
    "        prob_work = res(V, model.par.lambda_scale)\n",
    "        \n",
    "        def test(x):\n",
    "            #x = np.asarray(x).astype('float64')\n",
    "            #prop = x / ( np.sum(x) )\n",
    "            #print(x)\n",
    "            return np.random.choice(np.array([0, 1, 2, 3, 4, 5]),  p = x )\n",
    "        \n",
    "        h_i = np.apply_along_axis(test, 0, prob_work)\n",
    "        if t > 84:\n",
    "            h_i = h_i * 0\n",
    "        #print(prob_work[:,0].argmax(0))\n",
    "        #h_i = prob_work.argmax(0)\n",
    "        #print(np.sum(prob_work[:, 0]))\n",
    "        \n",
    "        #w_raw = w*np.reshape(V_plus,(par.Na,par.Nxi))\n",
    "        \n",
    "        #h_i = V.argmax(0) # index of best choice\n",
    "\n",
    "        Vs = V[:, h_i][0, :]\n",
    "        Cs = C[:, h_i][0, :] # magic to get all the best choices\n",
    "        sim.c[t, :] = Cs\n",
    "        sim.v[t, :] = Vs\n",
    "        sim.a[t,:] = sim.m[t,:] - sim.c[t,:]\n",
    "        \n",
    "        h_plus = model.par.H_bunches[h_i]\n",
    "        sim.h[t] = h_plus\n",
    "        #print(h_plus)\n",
    "        #print(sim.e[t, :])\n",
    "        if t< par.simT-1:\n",
    "            \n",
    "            xi, xi_w = tools.GaussHermite_lognorm(par.sigma_1 + par.sigma_2 * t, par.simN)\n",
    "            #print(xi.shape)\n",
    "            sim.xi = np.random.choice(xi, (par.simN),replace=True,p=xi_w)\n",
    "            \n",
    "            tax_fun_ = np.vectorize(tax_fun)\n",
    "            \n",
    "            e_plus = (1/(1 + t)) * (t * sim.e[t,:] + h_plus/par.H_bunches[5])\n",
    "            #print(e_plus)\n",
    "            #print(e_plus)\n",
    "            K_plus = human_capital(e_plus, t, par)\n",
    "            sim.e[t+1] = e_plus\n",
    "\n",
    "            wage_plus = K_plus * sim.xi # K\n",
    "            sim.wage[t, :] = wage_plus\n",
    "            income = h_plus * wage_plus / 1000\n",
    "            sim.income[t, : ] = income\n",
    "            \n",
    "            a = sim.m[t, :] - sim.c[t, :]\n",
    "            super_payment = K_plus * par.rho[edu] * (t+1 == 65)   \n",
    "            m_plus = par.interest * a + income - tax_fun_(income, par)  + par.tr * (t+1 <= 3) # wealth before pens\n",
    "            \n",
    "            pens = pens_fun(m_plus, income) * (t+1 > 65)\n",
    "            m_plus += super_payment\n",
    "            m_plus += pens\n",
    "            \n",
    "            sim.pens[t, :] = pens\n",
    "            #print(np.average(sim.c))\n",
    "           \n",
    "            sim.m[t+1, :] = m_plus\n",
    "            \n",
    "simulate(model)"
   ]
  },
  {
   "cell_type": "code",
   "execution_count": 413,
   "metadata": {},
   "outputs": [
    {
     "data": {
      "text/plain": [
       "[<matplotlib.lines.Line2D at 0x2502048fa30>]"
      ]
     },
     "execution_count": 413,
     "metadata": {},
     "output_type": "execute_result"
    },
    {
     "data": {
      "image/png": "[encoded data removed]",
      "text/plain": [
       "<Figure size 576x360 with 1 Axes>"
      ]
     },
     "metadata": {},
     "output_type": "display_data"
    }
   ],
   "source": [
    "hs = []\n",
    "for i in range(model.par.Tmin, model.par.T):\n",
    "    h = model.sim.h[i, :]\n",
    "    #print(h)\n",
    "    hh = egm.util( model.sim.h[i, :] , model.sim.h[i, :][0], i, model.par)\n",
    "    #h = model.sim.h[i, :]\n",
    "    #print(i)\n",
    "    h = np.average(h)\n",
    "    hs.append(h)\n",
    "fig = plt.figure(figsize=(8,5))\n",
    "ax = fig.add_subplot(1,1,1)\n",
    "ax.set_xlim(model.par.Tmin, model.par.T)\n",
    "ax.plot(list(range(model.par.Tmin, model.par.T)) , hs)"
   ]
  },
  {
   "cell_type": "code",
   "execution_count": 414,
   "metadata": {},
   "outputs": [
    {
     "data": {
      "text/plain": [
       "[<matplotlib.lines.Line2D at 0x250204f44f0>]"
      ]
     },
     "execution_count": 414,
     "metadata": {},
     "output_type": "execute_result"
    },
    {
     "data": {
      "image/png": "[encoded data removed]",
      "text/plain": [
       "<Figure size 432x288 with 1 Axes>"
      ]
     },
     "metadata": {},
     "output_type": "display_data"
    }
   ],
   "source": [
    "vs = []\n",
    "ds = []\n",
    "years = list(range(20, 70))\n",
    "for i in years:\n",
    "    ds.append( egm.human_capital(1, i, model.par) )\n",
    "    vs.append( egm.util_bequest(10*i, model.par, False) )\n",
    "plt.plot(years, ds)\n",
    "#plt.plot(vs)"
   ]
  },
  {
   "cell_type": "code",
   "execution_count": 429,
   "metadata": {},
   "outputs": [
    {
     "name": "stdout",
     "output_type": "stream",
     "text": [
      "[25, 40, 50, 60, 70, 80]\n",
      "275.137821472432\n",
      "251.85265464707743\n",
      "218.73788238460912\n",
      "176.94448107957433\n",
      "116.05042554837111\n",
      "68.76648777256229\n"
     ]
    },
    {
     "data": {
      "image/png": "[encoded data removed]",
      "text/plain": [
       "<Figure size 576x360 with 1 Axes>"
      ]
     },
     "metadata": {},
     "output_type": "display_data"
    },
    {
     "name": "stdout",
     "output_type": "stream",
     "text": [
      "[25, 40, 50, 60, 70, 80]\n",
      "277.7165155880578\n",
      "256.0908241779397\n",
      "223.26303911112072\n",
      "180.72571357414301\n",
      "117.73685562031683\n",
      "68.36077810235007\n"
     ]
    },
    {
     "data": {
      "image/png": "[encoded data removed]",
      "text/plain": [
       "<Figure size 576x360 with 1 Axes>"
      ]
     },
     "metadata": {},
     "output_type": "display_data"
    }
   ],
   "source": [
    "# Figure\n",
    "def figure_multi_dim(par,sol,T,i_h):\n",
    "    p = par.grid_e[i_h]\n",
    "\n",
    "    ts = [25, 40, 50, 60, 70, 80]\n",
    "    print(ts)\n",
    "    fig = plt.figure(figsize=(8,5))\n",
    "    ax = fig.add_subplot(1,1,1)\n",
    "    \n",
    "    for i in ts:\n",
    "        print(np.average(sol.v[i-1,T,:,i_h]))\n",
    "        ax.scatter(par.grid_m,sol.v[i-1,T,:,i_h], label=f't = {i}')\n",
    "    ax.set_xlabel(f\"$m_t$\")\n",
    "    ax.set_ylabel(f\"$c(m_t,z_{{t+1}} = {T}, health = {p:.3})$\")\n",
    "    ax.set_xlim([0, 100])\n",
    "    ax.set_ylim([0,300])\n",
    "    ax.set_title(f'Consumption function')\n",
    "    plt.legend()\n",
    "    plt.show()\n",
    "\n",
    "figure_multi_dim(model.par,model.sol, 0, 99)\n",
    "figure_multi_dim(model.par,model.sol, 5, 99)\n",
    "#figure_multi_dim(model.par,model.sol, 10, 50)\n",
    "#figure_multi_dim(model.par,model.sol, 30, 50)"
   ]
  },
  {
   "cell_type": "code",
   "execution_count": 439,
   "metadata": {},
   "outputs": [
    {
     "data": {
      "text/plain": [
       "-0.1"
      ]
     },
     "execution_count": 439,
     "metadata": {},
     "output_type": "execute_result"
    }
   ],
   "source": [
    "egm.util(10, 0, 10, model.par)\n"
   ]
  },
  {
   "cell_type": "code",
   "execution_count": 438,
   "metadata": {},
   "outputs": [
    {
     "name": "stdout",
     "output_type": "stream",
     "text": [
      "2\n"
     ]
    },
    {
     "data": {
      "text/plain": [
       "-0.1"
      ]
     },
     "execution_count": 438,
     "metadata": {},
     "output_type": "execute_result"
    }
   ],
   "source": [
    "c = 10\n",
    "par.zeta = model.par.zeta\n",
    "print(par.zeta)\n",
    "((c**(1.0-par.zeta))/(1.0-par.zeta))"
   ]
  },
  {
   "cell_type": "code",
   "execution_count": null,
   "metadata": {},
   "outputs": [],
   "source": []
  },
  {
   "cell_type": "code",
   "execution_count": 15,
   "metadata": {},
   "outputs": [
    {
     "data": {
      "text/plain": [
       "40.0"
      ]
     },
     "execution_count": 15,
     "metadata": {},
     "output_type": "execute_result"
    }
   ],
   "source": [
    "def soft_max(x, y):\n",
    "    v = 0.1\n",
    "    return v * np.log(np.exp(x/v) + np.exp(y/v))\n",
    "soft_max(40,2)"
   ]
  },
  {
   "cell_type": "code",
   "execution_count": null,
   "metadata": {},
   "outputs": [],
   "source": []
  }
 ],
 "metadata": {
  "interpreter": {
   "hash": "d12e26f72a40d5c48233c54861fca038d6a92135fc0e5e920944e69c69b6b29d"
  },
  "kernelspec": {
   "display_name": "Python 3 (ipykernel)",
   "language": "python",
   "name": "python3"
  },
  "language_info": {
   "codemirror_mode": {
    "name": "ipython",
    "version": 3
   },
   "file_extension": ".py",
   "mimetype": "text/x-python",
   "name": "python",
   "nbconvert_exporter": "python",
   "pygments_lexer": "ipython3",
   "version": "3.9.12"
  }
 },
 "nbformat": 4,
 "nbformat_minor": 4
}
