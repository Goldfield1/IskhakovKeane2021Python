{
 "cells": [
  {
   "cell_type": "code",
   "execution_count": 1,
   "metadata": {},
   "outputs": [],
   "source": [
    "# magics: ensures that any changes to the modules loaded below will be re-loaded automatically\n",
    "\n",
    "# load general packages\n",
    "import numpy as np\n",
    "import matplotlib.pyplot as plt\n",
    "plt.style.use('seaborn-whitegrid')\n",
    "\n",
    "# load modules related to this exercise\n",
    "import tools \n",
    "from model_dc_multidim import model_dc_multidim\n",
    "import time"
   ]
  },
  {
   "cell_type": "code",
   "execution_count": 2,
   "metadata": {},
   "outputs": [],
   "source": [
    "import egm_dc_multidim as egm\n",
    "#egm.death_chance(100)"
   ]
  },
  {
   "cell_type": "code",
   "execution_count": 3,
   "metadata": {},
   "outputs": [],
   "source": [
    "model = model_dc_multidim()\n",
    "model.setup()\n",
    "model.create_grids()"
   ]
  },
  {
   "cell_type": "code",
   "execution_count": 4,
   "metadata": {},
   "outputs": [
    {
     "data": {
      "text/plain": [
       "2.302585092994046"
      ]
     },
     "execution_count": 4,
     "metadata": {},
     "output_type": "execute_result"
    }
   ],
   "source": [
    "np.log(10)"
   ]
  },
  {
   "cell_type": "code",
   "execution_count": 5,
   "metadata": {},
   "outputs": [],
   "source": [
    "#model.par.grid_m"
   ]
  },
  {
   "cell_type": "code",
   "execution_count": 6,
   "metadata": {},
   "outputs": [
    {
     "name": "stdout",
     "output_type": "stream",
     "text": [
      "88\n",
      "87\n",
      "86\n",
      "85\n",
      "84\n",
      "83\n",
      "82\n",
      "81\n",
      "80\n",
      "79\n",
      "78\n",
      "77\n",
      "76\n",
      "75\n",
      "74\n",
      "73\n",
      "72\n",
      "71\n",
      "70\n",
      "69\n",
      "68\n",
      "67\n",
      "66\n",
      "65\n",
      "64\n",
      "63\n",
      "62\n",
      "61\n",
      "60\n",
      "59\n",
      "58\n",
      "57\n",
      "56\n",
      "55\n",
      "54\n",
      "53\n",
      "52\n",
      "51\n",
      "50\n",
      "49\n",
      "48\n",
      "47\n",
      "46\n",
      "45\n",
      "44\n",
      "43\n",
      "42\n",
      "41\n",
      "40\n",
      "39\n",
      "38\n",
      "37\n",
      "36\n",
      "35\n",
      "34\n",
      "33\n",
      "32\n",
      "31\n",
      "30\n",
      "29\n",
      "28\n",
      "27\n",
      "26\n",
      "25\n",
      "24\n",
      "23\n",
      "22\n",
      "21\n",
      "20\n",
      "time: 516.95275 seconds\n"
     ]
    }
   ],
   "source": [
    "t0 = time.time()  # set the starting time\n",
    "model = model_dc_multidim()\n",
    "model.setup()\n",
    "model.create_grids()\n",
    "model.solve()\n",
    "t1 = time.time() # set the ending time\n",
    "print(f'time: {t1-t0:.8} seconds') # print the total time"
   ]
  },
  {
   "cell_type": "code",
   "execution_count": 7,
   "metadata": {},
   "outputs": [
    {
     "data": {
      "text/plain": [
       "26.127019271838485"
      ]
     },
     "execution_count": 7,
     "metadata": {},
     "output_type": "execute_result"
    }
   ],
   "source": [
    "egm.human_capital(1, 60, model.par)"
   ]
  },
  {
   "cell_type": "code",
   "execution_count": 8,
   "metadata": {},
   "outputs": [
    {
     "name": "stdout",
     "output_type": "stream",
     "text": [
      "1.2546635870878221e-08\n",
      "9.119219261927349e-09\n",
      "7.335386945363942e-09\n",
      "0.0\n",
      "1.2922947446790766e-08\n",
      "7.080837345396199e-09\n",
      "8.59982219900046e-09\n",
      "1.1563042981929058e-08\n",
      "0.0\n",
      "0.0\n",
      "5.075741987663699e-08\n",
      "1.0028737608438847e-07\n",
      "0.0\n",
      "5.078879537912048e-07\n",
      "0.0032541597491632206\n",
      "0.005117676441455843\n",
      "0.007777583443543573\n",
      "1.5983938739715314e-10\n",
      "0.02800738949512107\n",
      "0.01735926712789527\n",
      "0.08096616567897554\n",
      "0.047038631413372015\n",
      "0.06380548318420257\n",
      "0.11399393623366465\n",
      "0.046544837457289046\n",
      "0.2236055954371209\n",
      "0.10911182000497145\n",
      "0.08530264013628008\n",
      "0.1201522902269073\n",
      "0.14317009288234078\n",
      "0.14542047202447902\n",
      "0.0006402778856720578\n",
      "0.026341334792908316\n",
      "0.10220308248090404\n",
      "0.7384874796344844\n",
      "0.7629174916443159\n",
      "0.7922479178953775\n",
      "0.8271041821412456\n",
      "0.868089883807444\n",
      "0.9157679612865124\n",
      "0.9706580854338283\n",
      "1.03324741684846\n",
      "1.1040028323472777\n",
      "1.1833872665533771\n",
      "1.2718991127291093\n",
      "1.370008632066853\n",
      "1.4782421502230594\n",
      "1.5972953404309578\n",
      "1.7279847938410842\n",
      "1.8711718002074726\n",
      "2.027183801917637\n",
      "2.194130379976986\n",
      "2.3704277470055444\n",
      "2.502260826964275\n",
      "2.7480584761612037\n",
      "2.9409081382848656\n",
      "3.1355807755876106\n",
      "3.339720077663326\n",
      "3.555653342071384\n",
      "3.7728856401002755\n",
      "3.9758056374425372\n",
      "4.173409730152696\n",
      "4.374760743065466\n",
      "4.5768689119581065\n",
      "4.780689365495057\n",
      "4.9799864915795045\n",
      "5.167273247387595\n",
      "5.351370739231506\n",
      "5.535023342376581\n"
     ]
    }
   ],
   "source": [
    "def pens_fun(m, wage):\n",
    "    year = 2015\n",
    "    m_asset_test = m\n",
    "    pens = soft_max(10.75973 + 1.84692 * (year > 2010) \n",
    "                    - soft_max(0, soft_max(0.27749 * wage, 0.00499 * (m_asset_test - 117.08260))), 0)\n",
    "    return pens\n",
    "\n",
    "def tax_fun(income, par):\n",
    "    thld_1 = 17.3918\n",
    "    thld_2 = 73.1766\n",
    "\n",
    "    if income < thld_1:\n",
    "        return 0 * income\n",
    "    if income < thld_2:\n",
    "        return 0.29907 * (income - thld_1)\n",
    "    return 0.37930 * (income - thld_2) + 0.29907 * thld_2\n",
    "\n",
    "def human_capital(e, t, par, tau=(\"cg\",\"high\")):\n",
    "    edu, skill = tau\n",
    "    \n",
    "    return np.exp(par.eta_0[edu] + par.eta_0[skill] + par.eta_1[edu] * t*e + par.eta_2[edu] * (t*e)**2 + par.eta_3*t + par.eta_4*t**2)\n",
    "\n",
    "def soft_max(x, y):\n",
    "    v = 0.3\n",
    "    return v * np.log(np.exp(x/v) + np.exp(y/v))\n",
    "\n",
    "def pens_fun(m, wage):\n",
    "    year = 2015\n",
    "    m_asset_test = m\n",
    "    pens = soft_max(10.75973 + 1.84692 * (year > 2010) \n",
    "                    - soft_max(0, soft_max(0.27749 * wage, 0.00499 * (m_asset_test - 117.08260))), 0)\n",
    "    return pens\n",
    "\n",
    "def simulate (model):\n",
    "    par = model.par\n",
    "    sol = model.sol\n",
    "    sim = model.sim\n",
    "    \n",
    "    par.simT = par.T\n",
    "    \n",
    "    # Initialize\n",
    "    shape = (par.simT, par.simN)\n",
    "    sim.m = np.nan +np.zeros(shape)\n",
    "    sim.c = np.nan +np.zeros(shape)\n",
    "    sim.a = np.nan +np.zeros(shape)\n",
    "    sim.e = np.nan +np.zeros(shape)\n",
    "    sim.income = np.nan +np.zeros(shape)\n",
    "    \n",
    "    sim.h = np.nan +np.zeros(shape)\n",
    "    sim.v = np.nan +np.zeros(shape)\n",
    "    sim.y = np.nan +np.zeros(shape)\n",
    "    \n",
    "    # Initial values\n",
    "    sim.m[par.Tmin,:] = 10\n",
    "\n",
    "    # Simulation \n",
    "    model.par.H_bunches = np.array(model.par.H_bunches)\n",
    "    \n",
    "    tau=(\"cg\",\"high\")\n",
    "    edu, skill = tau \n",
    "    for t in range(par.Tmin, par.simT):\n",
    "        V = np.zeros( (6, model.par.simN) )\n",
    "        C = np.zeros( (6, model.par.simN) )\n",
    "        for i, h_i in enumerate(model.par.H_bunches): # possible hour choices\n",
    "            if t == par.Tmin:\n",
    "                sim.e[t,:] = h_i / par.H_bunches[5]\n",
    "            \n",
    "            C[i, :] =tools.interp_2d_vec(par.grid_m, par.grid_e, sol.c[t, i], sim.m[t, :], sim.e[t, :])\n",
    "            V[i, :] = tools.interp_2d_vec(par.grid_m , par.grid_e, sol.v[t, i ], sim.m[t, :], sim.e[t, :]) \n",
    "        \n",
    "        h_i = V.argmax(0) # index of best choice\n",
    "        #print(V.shape)\n",
    "        #print(h_i.shape)\n",
    "        #print(V[:, h_i].shape)\n",
    "        Vs = V[:, h_i][0, :]\n",
    "        Cs = C[:, h_i][0, :] # magic to get all the best choices\n",
    "        sim.c[t, :] = Cs\n",
    "        sim.v[t, :] = Vs\n",
    "        sim.a[t,:] = sim.m[t,:] - sim.c[t,:]\n",
    "        \n",
    "        h_plus = model.par.H_bunches[h_i]\n",
    "        sim.h[t] = h_plus\n",
    "        #print(h_plus)\n",
    "        #print(sim.e[t, :])\n",
    "        if t< par.simT-1:\n",
    "            xi, xi_w = tools.GaussHermite_lognorm(par.sigma_1 + par.sigma_2 * t, par.Nxi)\n",
    "            \n",
    "            sim.xi = np.random.choice(xi, (par.T,par.simN),replace=True,p=xi_w)\n",
    "            \n",
    "            tax_fun_ = np.vectorize(tax_fun)\n",
    "            \n",
    "            e_plus = (1/(1 + t)) * (t * sim.e[t,:] + h_plus/par.H_bunches[5])\n",
    "            #print(e_plus)\n",
    "            #print(e_plus)\n",
    "            K_plus = human_capital(e_plus, t, par)\n",
    "            sim.e[t+1] = e_plus\n",
    "\n",
    "            wage_plus = K_plus * sim.xi[t,:] # K\n",
    "            \n",
    "            income = h_plus * wage_plus / 1000\n",
    "            sim.income[t, : ] = income\n",
    "            \n",
    "            a = sim.m[t, :] - sim.c[t, :]\n",
    "            super_payment = K_plus * par.rho[edu] * (t+1 == 65)   \n",
    "            m_plus = par.interest * a + income - tax_fun_(income, par)  + par.tr * (t+1 <= 3) # wealth before pens\n",
    "            #print(sim.c[t, :])\n",
    "            m_plus += pens_fun(m_plus, income)\n",
    "            \n",
    "            #print(np.average(sim.c))\n",
    "            print(np.average(pens_fun(m_plus, income)))\n",
    "            sim.m[t+1, :] = m_plus\n",
    "            \n",
    "simulate(model)"
   ]
  },
  {
   "cell_type": "code",
   "execution_count": 19,
   "metadata": {},
   "outputs": [
    {
     "data": {
      "text/plain": [
       "[<matplotlib.lines.Line2D at 0x26e515f6eb0>]"
      ]
     },
     "execution_count": 19,
     "metadata": {},
     "output_type": "execute_result"
    },
    {
     "data": {
      "image/png": "[encoded data removed]",
      "text/plain": [
       "<Figure size 432x288 with 1 Axes>"
      ]
     },
     "metadata": {},
     "output_type": "display_data"
    }
   ],
   "source": [
    "from scipy import optimize\n",
    "\n",
    "vs = []\n",
    "ds = []\n",
    "for i in range(20, 70):\n",
    "    ds.append( egm.human_capital(1, i, model.par) )\n",
    "    vs.append( egm.util_bequest(10*i, model.par, False) )\n",
    "plt.plot(ds)\n",
    "#plt.plot(vs)"
   ]
  },
  {
   "cell_type": "code",
   "execution_count": 20,
   "metadata": {},
   "outputs": [
    {
     "data": {
      "text/plain": [
       "[<matplotlib.lines.Line2D at 0x26e52152520>]"
      ]
     },
     "execution_count": 20,
     "metadata": {},
     "output_type": "execute_result"
    },
    {
     "data": {
      "image/png": "[encoded data removed]",
      "text/plain": [
       "<Figure size 576x360 with 1 Axes>"
      ]
     },
     "metadata": {},
     "output_type": "display_data"
    }
   ],
   "source": [
    "hs = []\n",
    "for i in range(model.par.Tmin, model.par.T):\n",
    "    h = model.sim.m[i, :]\n",
    "    #print(h)\n",
    "    hh = egm.util( model.sim.h[i, :] , model.sim.h[i, :][0], i, model.par)\n",
    "    #h = model.sim.h[i, :]\n",
    "    #print(i)\n",
    "    h = np.average(h)\n",
    "    hs.append(h)\n",
    "fig = plt.figure(figsize=(8,5))\n",
    "ax = fig.add_subplot(1,1,1)\n",
    "ax.set_xlim(model.par.Tmin, model.par.T)\n",
    "ax.plot(list(range(model.par.Tmin, model.par.T)) , hs)"
   ]
  },
  {
   "cell_type": "code",
   "execution_count": 11,
   "metadata": {},
   "outputs": [
    {
     "data": {
      "text/plain": [
       "array([0.07578657, 0.16542717, 0.32594075, 0.61710621, 1.15534316,\n",
       "       2.18742038, 4.30986913, 9.40759658])"
      ]
     },
     "execution_count": 11,
     "metadata": {},
     "output_type": "execute_result"
    }
   ],
   "source": [
    "xi, xi_w = tools.GaussHermite_lognorm(model.par.sigma_1 + model.par.sigma_2 * 80, model.par.Nxi)\n",
    "xi"
   ]
  },
  {
   "cell_type": "code",
   "execution_count": 12,
   "metadata": {},
   "outputs": [
    {
     "name": "stdout",
     "output_type": "stream",
     "text": [
      "[90, 89, 88, 87]\n"
     ]
    },
    {
     "data": {
      "image/png": "[encoded data removed]",
      "text/plain": [
       "<Figure size 576x360 with 1 Axes>"
      ]
     },
     "metadata": {},
     "output_type": "display_data"
    },
    {
     "name": "stdout",
     "output_type": "stream",
     "text": [
      "[90, 89, 88, 87]\n"
     ]
    },
    {
     "data": {
      "image/png": "[encoded data removed]",
      "text/plain": [
       "<Figure size 576x360 with 1 Axes>"
      ]
     },
     "metadata": {},
     "output_type": "display_data"
    }
   ],
   "source": [
    "# Figure\n",
    "def figure_multi_dim(par,sol,T,i_h):\n",
    "    p = par.grid_e[i_h]\n",
    "\n",
    "    ts = [par.T, par.T-1, par.T-2, par.T-3]\n",
    "    print(ts)\n",
    "    fig = plt.figure(figsize=(8,5))\n",
    "    ax = fig.add_subplot(1,1,1)\n",
    "    \n",
    "    for i in ts:\n",
    "        ax.scatter(par.grid_m,sol.v[i-1,T,:,i_h], label=f't = {i}')\n",
    "    ax.set_xlabel(f\"$m_t$\")\n",
    "    ax.set_ylabel(f\"$c(m_t,z_{{t+1}} = {T}, health = {p:.3})$\")\n",
    "    ax.set_xlim([0, 100])\n",
    "    ax.set_ylim([-10,20])\n",
    "    ax.set_title(f'Consumption function')\n",
    "    plt.legend()\n",
    "    plt.show()\n",
    "\n",
    "figure_multi_dim(model.par,model.sol, 0, 60)\n",
    "figure_multi_dim(model.par,model.sol, 5, 60)\n",
    "#figure_multi_dim(model.par,model.sol, 10, 50)\n",
    "#figure_multi_dim(model.par,model.sol, 30, 50)"
   ]
  },
  {
   "cell_type": "code",
   "execution_count": null,
   "metadata": {},
   "outputs": [],
   "source": []
  },
  {
   "cell_type": "code",
   "execution_count": null,
   "metadata": {},
   "outputs": [],
   "source": []
  },
  {
   "cell_type": "code",
   "execution_count": 13,
   "metadata": {},
   "outputs": [
    {
     "data": {
      "text/plain": [
       "40.0"
      ]
     },
     "execution_count": 13,
     "metadata": {},
     "output_type": "execute_result"
    }
   ],
   "source": [
    "def soft_max(x, y):\n",
    "    v = 0.1\n",
    "    return v * np.log(np.exp(x/v) + np.exp(y/v))\n",
    "soft_max(40,2)"
   ]
  },
  {
   "cell_type": "code",
   "execution_count": null,
   "metadata": {},
   "outputs": [],
   "source": []
  }
 ],
 "metadata": {
  "interpreter": {
   "hash": "d12e26f72a40d5c48233c54861fca038d6a92135fc0e5e920944e69c69b6b29d"
  },
  "kernelspec": {
   "display_name": "Python 3 (ipykernel)",
   "language": "python",
   "name": "python3"
  },
  "language_info": {
   "codemirror_mode": {
    "name": "ipython",
    "version": 3
   },
   "file_extension": ".py",
   "mimetype": "text/x-python",
   "name": "python",
   "nbconvert_exporter": "python",
   "pygments_lexer": "ipython3",
   "version": "3.9.12"
  }
 },
 "nbformat": 4,
 "nbformat_minor": 4
}
