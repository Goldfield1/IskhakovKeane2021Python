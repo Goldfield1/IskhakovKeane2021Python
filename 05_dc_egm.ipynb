{
 "cells": [
  {
   "cell_type": "code",
   "execution_count": 1,
   "metadata": {},
   "outputs": [],
   "source": [
    "# magics: ensures that any changes to the modules loaded below will be re-loaded automatically\n",
    "\n",
    "# load general packages\n",
    "import numpy as np\n",
    "import matplotlib.pyplot as plt\n",
    "plt.style.use('seaborn-whitegrid')\n",
    "\n",
    "# load modules related to this exercise\n",
    "import tools \n",
    "from model_dc_multidim import model_dc_multidim\n",
    "import time"
   ]
  },
  {
   "cell_type": "code",
   "execution_count": 2,
   "metadata": {},
   "outputs": [],
   "source": [
    "import egm_dc_multidim as egm\n",
    "#egm.death_chance(100)"
   ]
  },
  {
   "cell_type": "code",
   "execution_count": 3,
   "metadata": {},
   "outputs": [],
   "source": [
    "model = model_dc_multidim()\n",
    "model.setup()\n",
    "model.create_grids()"
   ]
  },
  {
   "cell_type": "code",
   "execution_count": 4,
   "metadata": {},
   "outputs": [],
   "source": [
    "#model.par.grid_m"
   ]
  },
  {
   "cell_type": "code",
   "execution_count": 5,
   "metadata": {},
   "outputs": [
    {
     "name": "stdout",
     "output_type": "stream",
     "text": [
      "43\n",
      "42\n",
      "41\n",
      "40\n",
      "39\n",
      "38\n",
      "37\n",
      "36\n",
      "35\n",
      "34\n",
      "33\n",
      "32\n",
      "31\n",
      "30\n",
      "29\n",
      "28\n",
      "27\n",
      "26\n",
      "25\n",
      "24\n",
      "23\n",
      "22\n",
      "21\n",
      "20\n",
      "19\n",
      "18\n",
      "17\n",
      "16\n",
      "15\n",
      "14\n",
      "13\n",
      "12\n",
      "11\n",
      "10\n",
      "9\n",
      "8\n",
      "7\n",
      "6\n",
      "5\n",
      "4\n",
      "3\n",
      "2\n",
      "1\n",
      "0\n",
      "time: 422.56156 seconds\n"
     ]
    }
   ],
   "source": [
    "t0 = time.time()  # set the starting time\n",
    "model = model_dc_multidim()\n",
    "model.setup()\n",
    "model.create_grids()\n",
    "model.solve()\n",
    "t1 = time.time() # set the ending time\n",
    "print(f'time: {t1-t0:.8} seconds') # print the total time"
   ]
  },
  {
   "cell_type": "code",
   "execution_count": 6,
   "metadata": {},
   "outputs": [],
   "source": [
    "#print(model.sol.c.shape)\n",
    "#model.par.grid_m.shape - model.sol.c[29]"
   ]
  },
  {
   "cell_type": "code",
   "execution_count": 7,
   "metadata": {},
   "outputs": [],
   "source": [
    "def pens_fun(m, wage):\n",
    "    year = 2015\n",
    "    m_asset_test = m\n",
    "    pens = soft_max(10.75973 + 1.84692 * (year > 2010) \n",
    "                    - soft_max(0, soft_max(0.27749 * wage, 0.00499 * (m_asset_test - 117.08260))), 0)\n",
    "    return pens\n",
    "\n",
    "def tax_fun(income, par):\n",
    "    thld_1 = 17.3918\n",
    "    thld_2 = 73.1766\n",
    "\n",
    "    if income < thld_1:\n",
    "        return 0 * income\n",
    "    if income < thld_2:\n",
    "        return 0.29907 * (income - thld_1)\n",
    "    return 0.37930 * (income - thld_2) + 0.29907 * thld_2\n",
    "\n",
    "def human_capital(e, t, par, tau=(\"cg\",\"high\")):\n",
    "    edu, skill = tau\n",
    "    \n",
    "    return np.exp(par.eta_0[edu] + par.eta_0[skill] + par.eta_1[edu] * t*e + par.eta_2[edu] * (t*e)**2 + par.eta_3*t + par.eta_4*t**2)\n",
    "\n",
    "def simulate (model):\n",
    "    par = model.par\n",
    "    sol = model.sol\n",
    "    sim = model.sim\n",
    "\n",
    "    par.simT = par.T\n",
    "    \n",
    "    # Initialize\n",
    "    shape = (par.simT, par.simN)\n",
    "    sim.m = np.nan +np.zeros(shape)\n",
    "    sim.c = np.nan +np.zeros(shape)\n",
    "    sim.a = np.nan +np.zeros(shape)\n",
    "    sim.e = np.nan +np.zeros(shape)\n",
    "    sim.income = np.nan +np.zeros(shape)\n",
    "    \n",
    "    sim.h = np.nan +np.zeros(shape)\n",
    "    sim.v = np.nan +np.zeros(shape)\n",
    "    sim.y = np.nan +np.zeros(shape)\n",
    "    \n",
    "    # Initial values\n",
    "    sim.m[0,:] = 10\n",
    "\n",
    "    # Simulation \n",
    "    model.par.H_bunches = np.array(model.par.H_bunches)\n",
    "    \n",
    "    tau=(\"cg\",\"high\")\n",
    "    edu, skill = tau \n",
    "    for t in range(par.simT):\n",
    "        V = np.zeros( (6, model.par.simN) )\n",
    "        C = np.zeros( (6, model.par.simN) )\n",
    "        for i, h_i in enumerate(model.par.H_bunches): # possible hour choices\n",
    "            if t == 0:\n",
    "                sim.e[0,:] = h_i / par.H_bunches[5]\n",
    "            \n",
    "            C[i, :] =tools.interp_2d_vec(par.grid_m, par.grid_e, sol.c[t, i], sim.m[t, :], sim.e[t, :])\n",
    "            V[i, :] = tools.interp_2d_vec(par.grid_m , par.grid_e, sol.v[t, i ], sim.m[t, :], sim.e[t, :]) \n",
    "        \n",
    "        h_i = V.argmax(0) # index of best choice\n",
    "        #print(V.shape)\n",
    "        #print(h_i.shape)\n",
    "        #print(V[:, h_i].shape)\n",
    "        Vs = V[:, h_i][0, :]\n",
    "        Cs = C[:, h_i][0, :] # magic to get all the best choices\n",
    "        sim.c[t, :] = Cs\n",
    "        sim.v[t, :] = Vs\n",
    "        sim.a[t,:] = sim.m[t,:] - sim.c[t,:]\n",
    "        \n",
    "        h_plus = model.par.H_bunches[h_i]\n",
    "        sim.h[t] = h_plus\n",
    "        #print(h_plus)\n",
    "        if t< par.simT-1:\n",
    "            xi, xi_w = tools.GaussHermite_lognorm(par.sigma_1 + par.sigma_2 * t, par.Nxi)\n",
    "            \n",
    "            sim.xi = np.random.choice(xi, (par.T,par.simN),replace=True,p=xi_w)\n",
    "            \n",
    "            tax_fun_ = np.vectorize(tax_fun)\n",
    "\n",
    "            e_plus = (1/(1 + t)) * (t * sim.e[t,:] + h_plus/par.H_bunches[5])\n",
    "            #print(e_plus)\n",
    "            K_plus = human_capital(e_plus, t, par)\n",
    "            sim.e[t+1] = e_plus\n",
    "            \n",
    "            wage_plus = K_plus * sim.xi[t,:] # K\n",
    "            income = h_plus * wage_plus / 1000\n",
    "            \n",
    "            sim.income[t, : ] = income\n",
    "            #print(K_plus)\n",
    "            #print( tax_fun_(income, par) )\n",
    "            \n",
    "            a = sim.m[t, :] - sim.c[t, :]\n",
    "            super_payment = K_plus * par.rho[edu] * (t+1 == 65)   \n",
    "            m_plus = par.interest * a + income - tax_fun_(income, par) + par.tr * (t+1 <= 23) # wealth before pens\n",
    "            #print(K_plus)\n",
    "            \n",
    "            sim.m[t+1, :] = m_plus\n",
    "            \n",
    "simulate(model)"
   ]
  },
  {
   "cell_type": "code",
   "execution_count": 8,
   "metadata": {},
   "outputs": [],
   "source": [
    "from scipy import optimize\n",
    "\n",
    "#egm.pens_fun(1000, 400)"
   ]
  },
  {
   "cell_type": "code",
   "execution_count": 13,
   "metadata": {},
   "outputs": [
    {
     "data": {
      "text/plain": [
       "[<matplotlib.lines.Line2D at 0x2a8a6051820>]"
      ]
     },
     "execution_count": 13,
     "metadata": {},
     "output_type": "execute_result"
    },
    {
     "data": {
      "image/png": "[encoded data removed]",
      "text/plain": [
       "<Figure size 576x360 with 1 Axes>"
      ]
     },
     "metadata": {},
     "output_type": "display_data"
    }
   ],
   "source": [
    "hs = []\n",
    "for i in range(model.par.T):\n",
    "    h = model.sim.m[i, :]\n",
    "    hh = egm.util( model.sim.c[i, :] , model.sim.h[i, :][0], i, model.par)\n",
    "    #h = model.sim.h[i, :]\n",
    "    h = np.average(h)\n",
    "    hs.append(h)\n",
    "fig = plt.figure(figsize=(8,5))\n",
    "ax = fig.add_subplot(1,1,1)\n",
    "ax.set_xlim([0, model.par.T])\n",
    "ax.plot(hs)"
   ]
  },
  {
   "cell_type": "code",
   "execution_count": 10,
   "metadata": {},
   "outputs": [
    {
     "data": {
      "text/plain": [
       "array([0.07578657, 0.16542717, 0.32594075, 0.61710621, 1.15534316,\n",
       "       2.18742038, 4.30986913, 9.40759658])"
      ]
     },
     "execution_count": 10,
     "metadata": {},
     "output_type": "execute_result"
    }
   ],
   "source": [
    "xi, xi_w = tools.GaussHermite_lognorm(model.par.sigma_1 + model.par.sigma_2 * 80, model.par.Nxi)\n",
    "xi"
   ]
  },
  {
   "cell_type": "code",
   "execution_count": 11,
   "metadata": {},
   "outputs": [
    {
     "name": "stdout",
     "output_type": "stream",
     "text": [
      "[45, 44, 43, 42]\n"
     ]
    },
    {
     "data": {
      "image/png": "[encoded data removed]",
      "text/plain": [
       "<Figure size 576x360 with 1 Axes>"
      ]
     },
     "metadata": {},
     "output_type": "display_data"
    },
    {
     "name": "stdout",
     "output_type": "stream",
     "text": [
      "[45, 44, 43, 42]\n"
     ]
    },
    {
     "data": {
      "image/png": "[encoded data removed]",
      "text/plain": [
       "<Figure size 576x360 with 1 Axes>"
      ]
     },
     "metadata": {},
     "output_type": "display_data"
    }
   ],
   "source": [
    "# Figure\n",
    "def figure_multi_dim(par,sol,T,i_h):\n",
    "    p = par.grid_e[i_h]\n",
    "\n",
    "    ts = [par.T, par.T-1, par.T-2, par.T-3]\n",
    "    print(ts)\n",
    "    fig = plt.figure(figsize=(8,5))\n",
    "    ax = fig.add_subplot(1,1,1)\n",
    "    \n",
    "    for i in ts:\n",
    "        ax.scatter(par.grid_m,sol.v[i-1,T,:,i_h], label=f't = {i}')\n",
    "    ax.set_xlabel(f\"$m_t$\")\n",
    "    ax.set_ylabel(f\"$c(m_t,z_{{t+1}} = {T}, health = {p:.3})$\")\n",
    "    ax.set_xlim([0, 100])\n",
    "    ax.set_ylim([-10,20])\n",
    "    ax.set_title(f'Consumption function')\n",
    "    plt.legend()\n",
    "    plt.show()\n",
    "\n",
    "figure_multi_dim(model.par,model.sol, 0, 60)\n",
    "figure_multi_dim(model.par,model.sol, 5, 60)\n",
    "#figure_multi_dim(model.par,model.sol, 10, 50)\n",
    "#figure_multi_dim(model.par,model.sol, 30, 50)"
   ]
  },
  {
   "cell_type": "code",
   "execution_count": null,
   "metadata": {},
   "outputs": [],
   "source": []
  },
  {
   "cell_type": "code",
   "execution_count": null,
   "metadata": {},
   "outputs": [],
   "source": []
  },
  {
   "cell_type": "code",
   "execution_count": 12,
   "metadata": {},
   "outputs": [
    {
     "data": {
      "text/plain": [
       "40.0"
      ]
     },
     "execution_count": 12,
     "metadata": {},
     "output_type": "execute_result"
    }
   ],
   "source": [
    "def soft_max(x, y):\n",
    "    v = 0.1\n",
    "    return v * np.log(np.exp(x/v) + np.exp(y/v))\n",
    "soft_max(40,2)"
   ]
  },
  {
   "cell_type": "code",
   "execution_count": null,
   "metadata": {},
   "outputs": [],
   "source": []
  }
 ],
 "metadata": {
  "interpreter": {
   "hash": "d12e26f72a40d5c48233c54861fca038d6a92135fc0e5e920944e69c69b6b29d"
  },
  "kernelspec": {
   "display_name": "Python 3 (ipykernel)",
   "language": "python",
   "name": "python3"
  },
  "language_info": {
   "codemirror_mode": {
    "name": "ipython",
    "version": 3
   },
   "file_extension": ".py",
   "mimetype": "text/x-python",
   "name": "python",
   "nbconvert_exporter": "python",
   "pygments_lexer": "ipython3",
   "version": "3.9.11"
  }
 },
 "nbformat": 4,
 "nbformat_minor": 4
}
