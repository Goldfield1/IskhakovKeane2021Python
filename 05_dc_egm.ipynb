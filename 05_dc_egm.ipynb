{
 "cells": [
  {
   "cell_type": "code",
   "execution_count": 18,
   "metadata": {},
   "outputs": [],
   "source": [
    "# magics: ensures that any changes to the modules loaded below will be re-loaded automatically\n",
    "\n",
    "# load general packages\n",
    "import numpy as np\n",
    "import matplotlib.pyplot as plt\n",
    "plt.style.use('seaborn-whitegrid')\n",
    "\n",
    "# load modules related to this exercise\n",
    "import tools \n",
    "from model_dc_multidim import model_dc_multidim\n",
    "import egm_dc_multidim as egm\n",
    "import time\n",
    "import random"
   ]
  },
  {
   "cell_type": "code",
   "execution_count": 6,
   "metadata": {},
   "outputs": [
    {
     "data": {
      "text/plain": [
       "8.19590192686237"
      ]
     },
     "execution_count": 6,
     "metadata": {},
     "output_type": "execute_result"
    }
   ],
   "source": [
    "egm.pens_fun(1001, 0)"
   ]
  },
  {
   "cell_type": "code",
   "execution_count": 7,
   "metadata": {},
   "outputs": [
    {
     "data": {
      "text/plain": [
       "-0.004989999999999929"
      ]
     },
     "execution_count": 7,
     "metadata": {},
     "output_type": "execute_result"
    }
   ],
   "source": [
    "def marg_pens(m, wage):\n",
    "    v = 0.1\n",
    "    return -(0.00499 * np.exp((0.00499 * m + 10.75973 - 0.00499 * 117.08260)/v) ) / ( ( np.exp(0.00499 * (m - 117.08260)/v ) + np.exp(0.27749 * wage/v) + np.exp(10.75973/v) +1)  * (np.exp(0.00499 *(m - 117.08260)/v ) + np.exp(wage * 0.27749/v) +1 ) )\n",
    "\n",
    "marg_pens(1000, 0)"
   ]
  },
  {
   "cell_type": "code",
   "execution_count": 8,
   "metadata": {},
   "outputs": [],
   "source": [
    "model = model_dc_multidim()\n",
    "model.setup()\n",
    "model.create_grids()"
   ]
  },
  {
   "cell_type": "code",
   "execution_count": 9,
   "metadata": {},
   "outputs": [
    {
     "name": "stdout",
     "output_type": "stream",
     "text": [
      "Evalutating: cg, low\n",
      "Evalutating period: 88\n",
      "Evalutating period: 87\n",
      "Evalutating period: 86\n",
      "Evalutating period: 85\n"
     ]
    },
    {
     "ename": "KeyboardInterrupt",
     "evalue": "",
     "output_type": "error",
     "traceback": [
      "\u001b[1;31m---------------------------------------------------------------------------\u001b[0m",
      "\u001b[1;31mKeyboardInterrupt\u001b[0m                         Traceback (most recent call last)",
      "Input \u001b[1;32mIn [9]\u001b[0m, in \u001b[0;36m<cell line: 5>\u001b[1;34m()\u001b[0m\n\u001b[0;32m      3\u001b[0m model\u001b[38;5;241m.\u001b[39msetup()\n\u001b[0;32m      4\u001b[0m model\u001b[38;5;241m.\u001b[39mcreate_grids()\n\u001b[1;32m----> 5\u001b[0m \u001b[43mmodel\u001b[49m\u001b[38;5;241;43m.\u001b[39;49m\u001b[43msolve\u001b[49m\u001b[43m(\u001b[49m\u001b[43m)\u001b[49m\n\u001b[0;32m      6\u001b[0m t1 \u001b[38;5;241m=\u001b[39m time\u001b[38;5;241m.\u001b[39mtime() \u001b[38;5;66;03m# set the ending time\u001b[39;00m\n\u001b[0;32m      7\u001b[0m \u001b[38;5;28mprint\u001b[39m(\u001b[38;5;124mf\u001b[39m\u001b[38;5;124m'\u001b[39m\u001b[38;5;124mtime: \u001b[39m\u001b[38;5;132;01m{\u001b[39;00mt1\u001b[38;5;241m-\u001b[39mt0\u001b[38;5;132;01m:\u001b[39;00m\u001b[38;5;124m.8\u001b[39m\u001b[38;5;132;01m}\u001b[39;00m\u001b[38;5;124m seconds\u001b[39m\u001b[38;5;124m'\u001b[39m)\n",
      "File \u001b[1;32m~\\IskhakovKeane2021Python\\model_dc_multidim.py:146\u001b[0m, in \u001b[0;36mmodel_dc_multidim.solve\u001b[1;34m(self, print_iteration_number)\u001b[0m\n\u001b[0;32m    144\u001b[0m h_plus \u001b[38;5;241m=\u001b[39m \u001b[38;5;241m0\u001b[39m\n\u001b[0;32m    145\u001b[0m c,v \u001b[38;5;241m=\u001b[39m egm\u001b[38;5;241m.\u001b[39mEGM(sol,h_plus,e_plus,t,par, edu, work_type)\n\u001b[1;32m--> 146\u001b[0m sol\u001b[38;5;241m.\u001b[39mc[t,:,:,i_e, work_i, edu_i] \u001b[38;5;241m=\u001b[39m c\n\u001b[0;32m    147\u001b[0m sol\u001b[38;5;241m.\u001b[39mv[t,:,:,i_e, work_i, edu_i] \u001b[38;5;241m=\u001b[39m v\n\u001b[0;32m    148\u001b[0m \u001b[38;5;28;01mcontinue\u001b[39;00m\n",
      "\u001b[1;31mKeyboardInterrupt\u001b[0m: "
     ]
    }
   ],
   "source": [
    "t0 = time.time()  # set the starting time\n",
    "model = model_dc_multidim()\n",
    "model.setup()\n",
    "model.create_grids()\n",
    "model.solve()\n",
    "t1 = time.time() # set the ending time\n",
    "print(f'time: {t1-t0:.8} seconds') # print the total time"
   ]
  },
  {
   "cell_type": "code",
   "execution_count": 10,
   "metadata": {},
   "outputs": [
    {
     "data": {
      "text/plain": [
       "53.49402684971406"
      ]
     },
     "execution_count": 10,
     "metadata": {},
     "output_type": "execute_result"
    }
   ],
   "source": [
    "\n",
    "egm.human_capital(1, 60, model.par)"
   ]
  },
  {
   "cell_type": "code",
   "execution_count": 26,
   "metadata": {},
   "outputs": [
    {
     "data": {
      "text/plain": [
       "array(['high', 'high', 'high', 'high', 'high', 'high', 'high', 'high',\n",
       "       'high', 'high', 'high', 'high', 'high', 'high', 'high', 'high',\n",
       "       'high', 'high', 'low', 'high', 'high', 'low', 'high', 'high',\n",
       "       'high', 'high', 'high', 'high', 'high', 'high', 'high', 'high',\n",
       "       'high', 'high', 'high', 'high', 'high', 'high', 'high', 'high',\n",
       "       'high', 'low', 'high', 'high', 'high', 'high', 'high', 'high',\n",
       "       'high', 'high', 'high', 'high', 'high', 'high', 'high', 'low',\n",
       "       'high', 'high', 'high', 'high', 'high', 'high', 'high', 'high',\n",
       "       'high', 'high', 'high', 'high', 'high', 'high', 'high', 'high',\n",
       "       'high', 'high', 'low', 'high', 'high', 'high', 'high', 'high',\n",
       "       'low', 'high', 'high', 'high', 'high', 'low', 'high', 'high',\n",
       "       'low', 'high', 'high', 'high', 'low', 'high', 'low', 'high',\n",
       "       'high', 'high', 'high', 'low'], dtype='<U4')"
      ]
     },
     "execution_count": 26,
     "metadata": {},
     "output_type": "execute_result"
    }
   ],
   "source": []
  },
  {
   "cell_type": "code",
   "execution_count": null,
   "metadata": {},
   "outputs": [],
   "source": []
  },
  {
   "cell_type": "code",
   "execution_count": 122,
   "metadata": {},
   "outputs": [
    {
     "ename": "TypeError",
     "evalue": "No matching definition for argument type(s) array(float64, 1d, C), array(float64, 1d, C), array(float64, 4d, C), array(float64, 1d, C), array(float64, 1d, C)",
     "output_type": "error",
     "traceback": [
      "\u001b[1;31m---------------------------------------------------------------------------\u001b[0m",
      "\u001b[1;31mTypeError\u001b[0m                                 Traceback (most recent call last)",
      "Input \u001b[1;32mIn [122]\u001b[0m, in \u001b[0;36m<cell line: 146>\u001b[1;34m()\u001b[0m\n\u001b[0;32m    142\u001b[0m             \u001b[38;5;66;03m#print(np.average(sim.c))\u001b[39;00m\n\u001b[0;32m    144\u001b[0m             sim\u001b[38;5;241m.\u001b[39mm[t\u001b[38;5;241m+\u001b[39m\u001b[38;5;241m1\u001b[39m, :] \u001b[38;5;241m=\u001b[39m m_plus\n\u001b[1;32m--> 146\u001b[0m \u001b[43msimulate\u001b[49m\u001b[43m(\u001b[49m\u001b[43mmodel\u001b[49m\u001b[43m)\u001b[49m\n",
      "Input \u001b[1;32mIn [122]\u001b[0m, in \u001b[0;36msimulate\u001b[1;34m(model)\u001b[0m\n\u001b[0;32m     78\u001b[0m     \u001b[38;5;28;01mif\u001b[39;00m t \u001b[38;5;241m==\u001b[39m par\u001b[38;5;241m.\u001b[39mTmin:\n\u001b[0;32m     79\u001b[0m         sim\u001b[38;5;241m.\u001b[39me[t,:] \u001b[38;5;241m=\u001b[39m par\u001b[38;5;241m.\u001b[39mH_bunches[\u001b[38;5;241m2\u001b[39m] \u001b[38;5;241m/\u001b[39m par\u001b[38;5;241m.\u001b[39mH_bunches[\u001b[38;5;241m5\u001b[39m]\n\u001b[1;32m---> 81\u001b[0m     C[i, :] \u001b[38;5;241m=\u001b[39m\u001b[43mtools\u001b[49m\u001b[38;5;241;43m.\u001b[39;49m\u001b[43minterp_2d_vec\u001b[49m\u001b[43m(\u001b[49m\u001b[43mpar\u001b[49m\u001b[38;5;241;43m.\u001b[39;49m\u001b[43mgrid_m\u001b[49m\u001b[43m,\u001b[49m\u001b[43m \u001b[49m\u001b[43mpar\u001b[49m\u001b[38;5;241;43m.\u001b[39;49m\u001b[43mgrid_e\u001b[49m\u001b[43m,\u001b[49m\u001b[43m \u001b[49m\u001b[43msol\u001b[49m\u001b[38;5;241;43m.\u001b[39;49m\u001b[43mc\u001b[49m\u001b[43m[\u001b[49m\u001b[43mt\u001b[49m\u001b[43m,\u001b[49m\u001b[43m \u001b[49m\u001b[43mi\u001b[49m\u001b[43m]\u001b[49m\u001b[43m,\u001b[49m\u001b[43m \u001b[49m\u001b[43msim\u001b[49m\u001b[38;5;241;43m.\u001b[39;49m\u001b[43mm\u001b[49m\u001b[43m[\u001b[49m\u001b[43mt\u001b[49m\u001b[43m,\u001b[49m\u001b[43m \u001b[49m\u001b[43m:\u001b[49m\u001b[43m]\u001b[49m\u001b[43m,\u001b[49m\u001b[43m \u001b[49m\u001b[43msim\u001b[49m\u001b[38;5;241;43m.\u001b[39;49m\u001b[43me\u001b[49m\u001b[43m[\u001b[49m\u001b[43mt\u001b[49m\u001b[43m,\u001b[49m\u001b[43m \u001b[49m\u001b[43m:\u001b[49m\u001b[43m]\u001b[49m\u001b[43m)\u001b[49m\n\u001b[0;32m     82\u001b[0m     V[i, :] \u001b[38;5;241m=\u001b[39m tools\u001b[38;5;241m.\u001b[39minterp_2d_vec(par\u001b[38;5;241m.\u001b[39mgrid_m , par\u001b[38;5;241m.\u001b[39mgrid_e, sol\u001b[38;5;241m.\u001b[39mv[t, i ], sim\u001b[38;5;241m.\u001b[39mm[t, :], sim\u001b[38;5;241m.\u001b[39me[t, :]) \n\u001b[0;32m     85\u001b[0m prob_work \u001b[38;5;241m=\u001b[39m res(V, model\u001b[38;5;241m.\u001b[39mpar\u001b[38;5;241m.\u001b[39mlambda_scale)\n",
      "File \u001b[1;32m~\\anaconda3\\lib\\site-packages\\numba\\core\\dispatcher.py:717\u001b[0m, in \u001b[0;36m_DispatcherBase._explain_matching_error\u001b[1;34m(self, *args, **kws)\u001b[0m\n\u001b[0;32m    714\u001b[0m args \u001b[38;5;241m=\u001b[39m [\u001b[38;5;28mself\u001b[39m\u001b[38;5;241m.\u001b[39mtypeof_pyval(a) \u001b[38;5;28;01mfor\u001b[39;00m a \u001b[38;5;129;01min\u001b[39;00m args]\n\u001b[0;32m    715\u001b[0m msg \u001b[38;5;241m=\u001b[39m (\u001b[38;5;124m\"\u001b[39m\u001b[38;5;124mNo matching definition for argument type(s) \u001b[39m\u001b[38;5;132;01m%s\u001b[39;00m\u001b[38;5;124m\"\u001b[39m\n\u001b[0;32m    716\u001b[0m        \u001b[38;5;241m%\u001b[39m \u001b[38;5;124m'\u001b[39m\u001b[38;5;124m, \u001b[39m\u001b[38;5;124m'\u001b[39m\u001b[38;5;241m.\u001b[39mjoin(\u001b[38;5;28mmap\u001b[39m(\u001b[38;5;28mstr\u001b[39m, args)))\n\u001b[1;32m--> 717\u001b[0m \u001b[38;5;28;01mraise\u001b[39;00m \u001b[38;5;167;01mTypeError\u001b[39;00m(msg)\n",
      "\u001b[1;31mTypeError\u001b[0m: No matching definition for argument type(s) array(float64, 1d, C), array(float64, 1d, C), array(float64, 4d, C), array(float64, 1d, C), array(float64, 1d, C)"
     ]
    }
   ],
   "source": [
    "def pens_fun(m, wage):\n",
    "    year = 2015\n",
    "    m_asset_test = m\n",
    "    pens = soft_max(10.75973 + 1.84692 * (year > 2010) \n",
    "                    - soft_max(0, soft_max(0.27749 * wage, 0.00499 * (m_asset_test - 117.08260))), 0)\n",
    "    return pens\n",
    "\n",
    "def tax_fun(income, par):\n",
    "    thld_1 = 17.3918\n",
    "    thld_2 = 73.1766\n",
    "\n",
    "    if income < thld_1:\n",
    "        return 0 * income\n",
    "    if income < thld_2:\n",
    "        return 0.29907 * (income - thld_1)\n",
    "    return 0.37930 * (income - thld_2) + 0.29907 * thld_2\n",
    "\n",
    "def human_capital(e, t, par, tau=(\"cg\",\"high\")):\n",
    "    print(tau)\n",
    "    edu, skill = tau\n",
    "    t -= 20\n",
    "    return np.exp(par.eta_0[edu] + par.eta_0[skill] + par.eta_1[edu] * t*e + par.eta_2[edu] * (t*e)**2 + par.eta_3*t + par.eta_4*t**2)\n",
    "\n",
    "def soft_max(x, y):\n",
    "    v = 0.3\n",
    "    return v * np.log(np.exp(x/v) + np.exp(y/v))\n",
    "\n",
    "def pens_fun(m, wage):\n",
    "    year = 2015\n",
    "    m_asset_test = m\n",
    "    pens = soft_max(10.75973 + 1.84692 * (year > 2010) \n",
    "                    - soft_max(0, soft_max(0.27749 * wage, 0.00499 * (m_asset_test - 117.08260))), 0)\n",
    "    return pens\n",
    "\n",
    "def res(V, sigma):\n",
    "    # Maximum over the discrete choices (0 = for each column, i.e., for each \"competing choice\")\n",
    "    mxm = V.max(0)\n",
    "    # numerically robust log-sum\n",
    "    log_sum = mxm + sigma*(np.log(np.sum(np.exp((V - mxm) / sigma),axis=0)))\n",
    "    prob = np.exp((V- log_sum) / sigma)    \n",
    "    return prob    \n",
    "\n",
    "def simulate (model):\n",
    "    par = model.par\n",
    "    sol = model.sol\n",
    "    sim = model.sim\n",
    "    \n",
    "    par.simT = par.T\n",
    "    \n",
    "    # Initialize\n",
    "    shape = (par.simT, par.simN)\n",
    "    sim.m = np.nan +np.zeros(shape)\n",
    "    sim.c = np.nan +np.zeros(shape)\n",
    "    sim.a = np.nan +np.zeros(shape)\n",
    "    sim.e = np.nan +np.zeros(shape)\n",
    "    sim.income = np.nan +np.zeros(shape)\n",
    "    sim.pens = np.nan +np.zeros(shape)\n",
    "    \n",
    "    sim.h = np.nan +np.zeros(shape)\n",
    "    sim.v = np.nan +np.zeros(shape)\n",
    "    sim.y = np.nan +np.zeros(shape)\n",
    "    sim.wage = np.nan +np.zeros(shape)\n",
    "    \n",
    "    pp = par.high_proportion[\"cg\"]\n",
    "    np.random.choice(np.array([\"high\", \"low\"]), (par.simN) , p = [pp, 1- pp])\n",
    "    \n",
    "    sim.m[par.Tmin,:] = np.random.lognormal(0, 1.48960, par.simN) + par.tr\n",
    "\n",
    "    # Simulation \n",
    "    model.par.H_bunches = np.array(model.par.H_bunches)\n",
    "    \n",
    "    \n",
    "    # HOW TO GET TYPES -> LOOP OVER THEM CHANGE tau, split simN into two, one for high and low\n",
    "    tau=(\"cg\",\"high\")\n",
    "    edu, skill = tau \n",
    "    for t in range(par.Tmin, par.simT):\n",
    "        V = np.zeros( (6, model.par.simN) )\n",
    "        C = np.zeros( (6, model.par.simN) )\n",
    "        for i, h_i in enumerate(model.par.H_bunches): # possible hour choices\n",
    "            if t == par.Tmin:\n",
    "                sim.e[t,:] = par.H_bunches[2] / par.H_bunches[5]\n",
    "            \n",
    "            C[i, :] =tools.interp_2d_vec(par.grid_m, par.grid_e, sol.c[t, i], sim.m[t, :], sim.e[t, :])\n",
    "            V[i, :] = tools.interp_2d_vec(par.grid_m , par.grid_e, sol.v[t, i ], sim.m[t, :], sim.e[t, :]) \n",
    "        \n",
    "\n",
    "        prob_work = res(V, model.par.lambda_scale)\n",
    "        \n",
    "        def test(x):\n",
    "            #x = np.asarray(x).astype('float64')\n",
    "            #prop = x / ( np.sum(x) )\n",
    "            #print(x)\n",
    "            return np.random.choice(np.array([0, 1, 2, 3, 4, 5]),  p = x )\n",
    "        \n",
    "        h_i = np.apply_along_axis(test, 0, prob_work)\n",
    "        if t > 84:\n",
    "            h_i = h_i * 0\n",
    "        #print(prob_work[:,0].argmax(0))\n",
    "        #h_i = prob_work.argmax(0)\n",
    "        #print(np.sum(prob_work[:, 0]))\n",
    "        \n",
    "        #w_raw = w*np.reshape(V_plus,(par.Na,par.Nxi))\n",
    "        \n",
    "        #h_i = V.argmax(0) # index of best choice\n",
    "\n",
    "        Vs = V[:, h_i][0, :]\n",
    "        Cs = C[:, h_i][0, :] # magic to get all the best choices\n",
    "        sim.c[t, :] = Cs\n",
    "        sim.v[t, :] = Vs\n",
    "        sim.a[t,:] = sim.m[t,:] - sim.c[t,:]\n",
    "        \n",
    "        h_plus = model.par.H_bunches[h_i]\n",
    "        sim.h[t] = h_plus\n",
    "        #print(h_plus)\n",
    "        #print(sim.e[t, :])\n",
    "        if t< par.simT-1:\n",
    "            \n",
    "            xi, xi_w = tools.GaussHermite_lognorm(par.sigma_1 + par.sigma_2 * t, par.simN)\n",
    "            #print(xi.shape)\n",
    "            sim.xi = np.random.choice(xi, (par.simN),replace=True,p=xi_w)\n",
    "            \n",
    "            tax_fun_ = np.vectorize(tax_fun)\n",
    "            \n",
    "            e_plus = (1/(1 + t)) * (t * sim.e[t,:] + h_plus/par.H_bunches[5])\n",
    "            #print(e_plus)\n",
    "            #print(e_plus)\n",
    "            K_plus = human_capital(e_plus, t, par)\n",
    "            sim.e[t+1] = e_plus\n",
    "\n",
    "            wage_plus = K_plus * sim.xi # K\n",
    "            sim.wage[t, :] = wage_plus\n",
    "            income = h_plus * wage_plus / 1000\n",
    "            sim.income[t, : ] = income\n",
    "            \n",
    "            a = sim.m[t, :] - sim.c[t, :]\n",
    "            super_payment = K_plus * par.rho[edu] * (t == 65)   \n",
    "            m_plus = par.interest * a + income - tax_fun_(income, par)  + par.tr * (t+1 <= 3) # wealth before pens\n",
    "            \n",
    "            pens = pens_fun(m_plus, income) * (t > 65)\n",
    "            m_plus += super_payment\n",
    "            m_plus += pens\n",
    "            \n",
    "            sim.pens[t, :] = pens\n",
    "            #print(np.average(sim.c))\n",
    "           \n",
    "            sim.m[t+1, :] = m_plus\n",
    "            \n",
    "simulate(model)"
   ]
  },
  {
   "cell_type": "code",
   "execution_count": 105,
   "metadata": {},
   "outputs": [],
   "source": [
    "#plt.plot(np.random.lognormal(0, 1.48960, model.par.simN))"
   ]
  },
  {
   "cell_type": "code",
   "execution_count": 115,
   "metadata": {},
   "outputs": [
    {
     "data": {
      "text/plain": [
       "[<matplotlib.lines.Line2D at 0x243d3fa4310>]"
      ]
     },
     "execution_count": 115,
     "metadata": {},
     "output_type": "execute_result"
    },
    {
     "data": {
      "image/png": "[encoded data removed]",
      "text/plain": [
       "<Figure size 576x360 with 1 Axes>"
      ]
     },
     "metadata": {},
     "output_type": "display_data"
    }
   ],
   "source": [
    "hs = []\n",
    "for i in range(model.par.Tmin, model.par.T):\n",
    "    h = model.sim.m[i, :]\n",
    "    #print(h)\n",
    "    #hh = egm.util( model.sim.m[i, :] , model.sim.h[i, :][0], i, model.par)\n",
    "    #h = model.sim.h[i, :]\n",
    "    #print(i)\n",
    "    h = np.average(h)\n",
    "    hs.append(h)\n",
    "fig = plt.figure(figsize=(8,5))\n",
    "ax = fig.add_subplot(1,1,1)\n",
    "ax.set_xlim(model.par.Tmin, model.par.T)\n",
    "ax.plot(list(range(model.par.Tmin, model.par.T)) , hs)"
   ]
  },
  {
   "cell_type": "code",
   "execution_count": 10,
   "metadata": {},
   "outputs": [
    {
     "data": {
      "text/plain": [
       "[<matplotlib.lines.Line2D at 0x243ceba2b20>]"
      ]
     },
     "execution_count": 10,
     "metadata": {},
     "output_type": "execute_result"
    },
    {
     "data": {
      "image/png": "[encoded data removed]",
      "text/plain": [
       "<Figure size 432x288 with 1 Axes>"
      ]
     },
     "metadata": {},
     "output_type": "display_data"
    }
   ],
   "source": [
    "vs = []\n",
    "ds = []\n",
    "years = list(range(20, 70))\n",
    "for i in years:\n",
    "    ds.append( egm.human_capital(1, i, model.par) )\n",
    "    vs.append( egm.util_bequest(10*i, model.par, False) )\n",
    "plt.plot(years, ds)\n",
    "#plt.plot(vs)"
   ]
  },
  {
   "cell_type": "code",
   "execution_count": 11,
   "metadata": {},
   "outputs": [
    {
     "name": "stdout",
     "output_type": "stream",
     "text": [
      "[25, 40, 50, 60, 70, 80]\n",
      "275.137821472432\n",
      "251.85265464707743\n",
      "218.73788238460912\n",
      "176.94448107957433\n",
      "116.05042554837111\n",
      "68.76648777256229\n"
     ]
    },
    {
     "data": {
      "image/png": "[encoded data removed]",
      "text/plain": [
       "<Figure size 576x360 with 1 Axes>"
      ]
     },
     "metadata": {},
     "output_type": "display_data"
    },
    {
     "name": "stdout",
     "output_type": "stream",
     "text": [
      "[25, 40, 50, 60, 70, 80]\n",
      "277.7165155880578\n",
      "256.0908241779397\n",
      "223.26303911112072\n",
      "180.72571357414301\n",
      "117.73685562031683\n",
      "68.36077810235007\n"
     ]
    },
    {
     "data": {
      "image/png": "[encoded data removed]",
      "text/plain": [
       "<Figure size 576x360 with 1 Axes>"
      ]
     },
     "metadata": {},
     "output_type": "display_data"
    }
   ],
   "source": [
    "# Figure\n",
    "def figure_multi_dim(par,sol,T,i_h):\n",
    "    p = par.grid_e[i_h]\n",
    "\n",
    "    ts = [25, 40, 50, 60, 70, 80]\n",
    "    print(ts)\n",
    "    fig = plt.figure(figsize=(8,5))\n",
    "    ax = fig.add_subplot(1,1,1)\n",
    "    \n",
    "    for i in ts:\n",
    "        print(np.average(sol.v[i-1,T,:,i_h]))\n",
    "        ax.scatter(par.grid_m,sol.v[i-1,T,:,i_h], label=f't = {i}')\n",
    "    ax.set_xlabel(f\"$m_t$\")\n",
    "    ax.set_ylabel(f\"$c(m_t,z_{{t+1}} = {T}, health = {p:.3})$\")\n",
    "    ax.set_xlim([0, 100])\n",
    "    ax.set_ylim([0,300])\n",
    "    ax.set_title(f'Consumption function')\n",
    "    plt.legend()\n",
    "    plt.show()\n",
    "\n",
    "figure_multi_dim(model.par,model.sol, 0, 99)\n",
    "figure_multi_dim(model.par,model.sol, 5, 99)\n",
    "#figure_multi_dim(model.par,model.sol, 10, 50)\n",
    "#figure_multi_dim(model.par,model.sol, 30, 50)"
   ]
  },
  {
   "cell_type": "code",
   "execution_count": 12,
   "metadata": {},
   "outputs": [
    {
     "data": {
      "text/plain": [
       "7.818293900984182"
      ]
     },
     "execution_count": 12,
     "metadata": {},
     "output_type": "execute_result"
    }
   ],
   "source": [
    "egm.util(10, 0, 10, model.par)\n"
   ]
  },
  {
   "cell_type": "code",
   "execution_count": 13,
   "metadata": {},
   "outputs": [
    {
     "ename": "NameError",
     "evalue": "name 'par' is not defined",
     "output_type": "error",
     "traceback": [
      "\u001b[1;31m---------------------------------------------------------------------------\u001b[0m",
      "\u001b[1;31mNameError\u001b[0m                                 Traceback (most recent call last)",
      "Input \u001b[1;32mIn [13]\u001b[0m, in \u001b[0;36m<cell line: 2>\u001b[1;34m()\u001b[0m\n\u001b[0;32m      1\u001b[0m c \u001b[38;5;241m=\u001b[39m \u001b[38;5;241m10\u001b[39m\n\u001b[1;32m----> 2\u001b[0m \u001b[43mpar\u001b[49m\u001b[38;5;241m.\u001b[39mzeta \u001b[38;5;241m=\u001b[39m model\u001b[38;5;241m.\u001b[39mpar\u001b[38;5;241m.\u001b[39mzeta\n\u001b[0;32m      3\u001b[0m \u001b[38;5;28mprint\u001b[39m(par\u001b[38;5;241m.\u001b[39mzeta)\n\u001b[0;32m      4\u001b[0m ((c\u001b[38;5;241m*\u001b[39m\u001b[38;5;241m*\u001b[39m(\u001b[38;5;241m1.0\u001b[39m\u001b[38;5;241m-\u001b[39mpar\u001b[38;5;241m.\u001b[39mzeta))\u001b[38;5;241m/\u001b[39m(\u001b[38;5;241m1.0\u001b[39m\u001b[38;5;241m-\u001b[39mpar\u001b[38;5;241m.\u001b[39mzeta))\n",
      "\u001b[1;31mNameError\u001b[0m: name 'par' is not defined"
     ]
    }
   ],
   "source": [
    "c = 10\n",
    "par.zeta = model.par.zeta\n",
    "print(par.zeta)\n",
    "((c**(1.0-par.zeta))/(1.0-par.zeta))"
   ]
  },
  {
   "cell_type": "code",
   "execution_count": null,
   "metadata": {},
   "outputs": [],
   "source": []
  },
  {
   "cell_type": "code",
   "execution_count": null,
   "metadata": {},
   "outputs": [],
   "source": [
    "def soft_max(x, y):\n",
    "    v = 0.1\n",
    "    return v * np.log(np.exp(x/v) + np.exp(y/v))\n",
    "soft_max(40,2)"
   ]
  },
  {
   "cell_type": "code",
   "execution_count": null,
   "metadata": {},
   "outputs": [],
   "source": []
  }
 ],
 "metadata": {
  "interpreter": {
   "hash": "d12e26f72a40d5c48233c54861fca038d6a92135fc0e5e920944e69c69b6b29d"
  },
  "kernelspec": {
   "display_name": "Python 3 (ipykernel)",
   "language": "python",
   "name": "python3"
  },
  "language_info": {
   "codemirror_mode": {
    "name": "ipython",
    "version": 3
   },
   "file_extension": ".py",
   "mimetype": "text/x-python",
   "name": "python",
   "nbconvert_exporter": "python",
   "pygments_lexer": "ipython3",
   "version": "3.9.12"
  }
 },
 "nbformat": 4,
 "nbformat_minor": 4
}
